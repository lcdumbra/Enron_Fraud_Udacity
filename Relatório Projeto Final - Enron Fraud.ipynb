{
 "cells": [
  {
   "cell_type": "markdown",
   "metadata": {},
   "source": [
    "## Projeto: Identificar fraude no email da Enron ##"
   ]
  },
  {
   "cell_type": "markdown",
   "metadata": {},
   "source": [
    "### Visão Geral ###"
   ]
  },
  {
   "cell_type": "markdown",
   "metadata": {},
   "source": [
    "Em 2000, Enron era uma das maiores empresas dos Estados Unidos.<br>\n",
    "Já em 2002, ela colapsou e quebrou devido a uma fraude que envolveu grande parte da corporação.<br>\n",
    "Resultando em uma investigação federal, muitos dados que são normalmente confidenciais, se tornaram públicos, incluindo dezenas de milhares de e-mails e detalhes financeiros para os executivos dos mais altos níveis da empresa."
   ]
  },
  {
   "cell_type": "markdown",
   "metadata": {},
   "source": [
    "### Objetivo ###"
   ]
  },
  {
   "cell_type": "markdown",
   "metadata": {},
   "source": [
    "Construção de um modelo preditivo que visará determinar se um funcionário é ou não um funcionário de interesse (POI).<br>\n",
    "Um funcionário de interesse é um funcionário que participou do escândalo da empresa Enron."
   ]
  },
  {
   "cell_type": "code",
   "execution_count": 1,
   "metadata": {},
   "outputs": [],
   "source": [
    "# Importing all we need for this project\n",
    "\n",
    "#!/usr/bin/python\n",
    "from time import time\n",
    "import sys\n",
    "import pickle\n",
    "import pandas as pd\n",
    "import numpy as np\n",
    "import matplotlib.pyplot as plt\n",
    "%matplotlib inline\n",
    "\n",
    "from sklearn.preprocessing import MinMaxScaler\n",
    "from sklearn.metrics import classification_report\n",
    "from sklearn.model_selection import train_test_split,  GridSearchCV, StratifiedShuffleSplit\n",
    "\n",
    "from sklearn.feature_selection import SelectKBest, f_classif\n",
    "from sklearn.decomposition import PCA\n",
    "from sklearn.pipeline import Pipeline\n",
    "from sklearn.tree import DecisionTreeClassifier\n",
    "from sklearn.naive_bayes import GaussianNB\n",
    "from sklearn.svm import SVC\n",
    "from sklearn.ensemble import RandomForestClassifier\n",
    "from sklearn.ensemble import AdaBoostClassifier\n",
    "\n",
    "sys.path.append(\"../tools/\")\n",
    "\n",
    "from feature_format import featureFormat, targetFeatureSplit\n",
    "from tester import dump_classifier_and_data"
   ]
  },
  {
   "cell_type": "markdown",
   "metadata": {},
   "source": [
    "### Task 1: Select what features you'll use. ###"
   ]
  },
  {
   "cell_type": "code",
   "execution_count": 2,
   "metadata": {},
   "outputs": [],
   "source": [
    "with open(\"final_project_dataset_2.pkl\", \"rb\") as data_file: \n",
    "    data_dict = pickle.load(data_file)"
   ]
  },
  {
   "cell_type": "code",
   "execution_count": 3,
   "metadata": {},
   "outputs": [
    {
     "data": {
      "text/html": [
       "<div>\n",
       "<style scoped>\n",
       "    .dataframe tbody tr th:only-of-type {\n",
       "        vertical-align: middle;\n",
       "    }\n",
       "\n",
       "    .dataframe tbody tr th {\n",
       "        vertical-align: top;\n",
       "    }\n",
       "\n",
       "    .dataframe thead th {\n",
       "        text-align: right;\n",
       "    }\n",
       "</style>\n",
       "<table border=\"1\" class=\"dataframe\">\n",
       "  <thead>\n",
       "    <tr style=\"text-align: right;\">\n",
       "      <th></th>\n",
       "      <th>bonus</th>\n",
       "      <th>deferral_payments</th>\n",
       "      <th>deferred_income</th>\n",
       "      <th>director_fees</th>\n",
       "      <th>email_address</th>\n",
       "      <th>exercised_stock_options</th>\n",
       "      <th>expenses</th>\n",
       "      <th>from_messages</th>\n",
       "      <th>from_poi_to_this_person</th>\n",
       "      <th>from_this_person_to_poi</th>\n",
       "      <th>...</th>\n",
       "      <th>long_term_incentive</th>\n",
       "      <th>other</th>\n",
       "      <th>poi</th>\n",
       "      <th>restricted_stock</th>\n",
       "      <th>restricted_stock_deferred</th>\n",
       "      <th>salary</th>\n",
       "      <th>shared_receipt_with_poi</th>\n",
       "      <th>to_messages</th>\n",
       "      <th>total_payments</th>\n",
       "      <th>total_stock_value</th>\n",
       "    </tr>\n",
       "  </thead>\n",
       "  <tbody>\n",
       "    <tr>\n",
       "      <th>0</th>\n",
       "      <td>600000</td>\n",
       "      <td>NaN</td>\n",
       "      <td>NaN</td>\n",
       "      <td>NaN</td>\n",
       "      <td>mark.metts@enron.com</td>\n",
       "      <td>NaN</td>\n",
       "      <td>94299</td>\n",
       "      <td>29</td>\n",
       "      <td>38</td>\n",
       "      <td>1</td>\n",
       "      <td>...</td>\n",
       "      <td>NaN</td>\n",
       "      <td>1740</td>\n",
       "      <td>False</td>\n",
       "      <td>585062</td>\n",
       "      <td>NaN</td>\n",
       "      <td>365788</td>\n",
       "      <td>702</td>\n",
       "      <td>807</td>\n",
       "      <td>1061827</td>\n",
       "      <td>585062</td>\n",
       "    </tr>\n",
       "    <tr>\n",
       "      <th>1</th>\n",
       "      <td>1200000</td>\n",
       "      <td>1295738</td>\n",
       "      <td>-1386055</td>\n",
       "      <td>NaN</td>\n",
       "      <td>NaN</td>\n",
       "      <td>6680544</td>\n",
       "      <td>11200</td>\n",
       "      <td>NaN</td>\n",
       "      <td>NaN</td>\n",
       "      <td>NaN</td>\n",
       "      <td>...</td>\n",
       "      <td>1586055</td>\n",
       "      <td>2660303</td>\n",
       "      <td>False</td>\n",
       "      <td>3942714</td>\n",
       "      <td>NaN</td>\n",
       "      <td>267102</td>\n",
       "      <td>NaN</td>\n",
       "      <td>NaN</td>\n",
       "      <td>5634343</td>\n",
       "      <td>10623258</td>\n",
       "    </tr>\n",
       "    <tr>\n",
       "      <th>2</th>\n",
       "      <td>350000</td>\n",
       "      <td>NaN</td>\n",
       "      <td>-400729</td>\n",
       "      <td>NaN</td>\n",
       "      <td>steven.elliott@enron.com</td>\n",
       "      <td>4890344</td>\n",
       "      <td>78552</td>\n",
       "      <td>NaN</td>\n",
       "      <td>NaN</td>\n",
       "      <td>NaN</td>\n",
       "      <td>...</td>\n",
       "      <td>NaN</td>\n",
       "      <td>12961</td>\n",
       "      <td>False</td>\n",
       "      <td>1788391</td>\n",
       "      <td>NaN</td>\n",
       "      <td>170941</td>\n",
       "      <td>NaN</td>\n",
       "      <td>NaN</td>\n",
       "      <td>211725</td>\n",
       "      <td>6678735</td>\n",
       "    </tr>\n",
       "    <tr>\n",
       "      <th>3</th>\n",
       "      <td>NaN</td>\n",
       "      <td>NaN</td>\n",
       "      <td>NaN</td>\n",
       "      <td>NaN</td>\n",
       "      <td>bill.cordes@enron.com</td>\n",
       "      <td>651850</td>\n",
       "      <td>NaN</td>\n",
       "      <td>12</td>\n",
       "      <td>10</td>\n",
       "      <td>0</td>\n",
       "      <td>...</td>\n",
       "      <td>NaN</td>\n",
       "      <td>NaN</td>\n",
       "      <td>False</td>\n",
       "      <td>386335</td>\n",
       "      <td>NaN</td>\n",
       "      <td>NaN</td>\n",
       "      <td>58</td>\n",
       "      <td>764</td>\n",
       "      <td>NaN</td>\n",
       "      <td>1038185</td>\n",
       "    </tr>\n",
       "    <tr>\n",
       "      <th>4</th>\n",
       "      <td>1500000</td>\n",
       "      <td>NaN</td>\n",
       "      <td>-3117011</td>\n",
       "      <td>NaN</td>\n",
       "      <td>kevin.hannon@enron.com</td>\n",
       "      <td>5538001</td>\n",
       "      <td>34039</td>\n",
       "      <td>32</td>\n",
       "      <td>32</td>\n",
       "      <td>21</td>\n",
       "      <td>...</td>\n",
       "      <td>1617011</td>\n",
       "      <td>11350</td>\n",
       "      <td>True</td>\n",
       "      <td>853064</td>\n",
       "      <td>NaN</td>\n",
       "      <td>243293</td>\n",
       "      <td>1035</td>\n",
       "      <td>1045</td>\n",
       "      <td>288682</td>\n",
       "      <td>6391065</td>\n",
       "    </tr>\n",
       "  </tbody>\n",
       "</table>\n",
       "<p>5 rows × 21 columns</p>\n",
       "</div>"
      ],
      "text/plain": [
       "     bonus deferral_payments deferred_income director_fees  \\\n",
       "0   600000               NaN             NaN           NaN   \n",
       "1  1200000           1295738        -1386055           NaN   \n",
       "2   350000               NaN         -400729           NaN   \n",
       "3      NaN               NaN             NaN           NaN   \n",
       "4  1500000               NaN        -3117011           NaN   \n",
       "\n",
       "              email_address exercised_stock_options expenses from_messages  \\\n",
       "0      mark.metts@enron.com                     NaN    94299            29   \n",
       "1                       NaN                 6680544    11200           NaN   \n",
       "2  steven.elliott@enron.com                 4890344    78552           NaN   \n",
       "3     bill.cordes@enron.com                  651850      NaN            12   \n",
       "4    kevin.hannon@enron.com                 5538001    34039            32   \n",
       "\n",
       "  from_poi_to_this_person from_this_person_to_poi        ...         \\\n",
       "0                      38                       1        ...          \n",
       "1                     NaN                     NaN        ...          \n",
       "2                     NaN                     NaN        ...          \n",
       "3                      10                       0        ...          \n",
       "4                      32                      21        ...          \n",
       "\n",
       "  long_term_incentive    other    poi  restricted_stock  \\\n",
       "0                 NaN     1740  False            585062   \n",
       "1             1586055  2660303  False           3942714   \n",
       "2                 NaN    12961  False           1788391   \n",
       "3                 NaN      NaN  False            386335   \n",
       "4             1617011    11350   True            853064   \n",
       "\n",
       "  restricted_stock_deferred  salary shared_receipt_with_poi to_messages  \\\n",
       "0                       NaN  365788                     702         807   \n",
       "1                       NaN  267102                     NaN         NaN   \n",
       "2                       NaN  170941                     NaN         NaN   \n",
       "3                       NaN     NaN                      58         764   \n",
       "4                       NaN  243293                    1035        1045   \n",
       "\n",
       "  total_payments total_stock_value  \n",
       "0        1061827            585062  \n",
       "1        5634343          10623258  \n",
       "2         211725           6678735  \n",
       "3            NaN           1038185  \n",
       "4         288682           6391065  \n",
       "\n",
       "[5 rows x 21 columns]"
      ]
     },
     "execution_count": 3,
     "metadata": {},
     "output_type": "execute_result"
    }
   ],
   "source": [
    "# Converting data to a Pandas dataframe\n",
    "enron_df = pd.DataFrame.from_records(list(data_dict.values()))\n",
    "enron_df.head(5)"
   ]
  },
  {
   "cell_type": "code",
   "execution_count": 4,
   "metadata": {},
   "outputs": [],
   "source": [
    "# Paste dataframe content to be a series of employees\n",
    "employees = pd.Series(list(data_dict.keys()))\n",
    "enron_df.set_index(employees, inplace=True)"
   ]
  },
  {
   "cell_type": "code",
   "execution_count": 5,
   "metadata": {},
   "outputs": [
    {
     "name": "stdout",
     "output_type": "stream",
     "text": [
      "Number of features: 21\n",
      "Number of employees: 146\n",
      "Number of POI in dataset: 18\n"
     ]
    }
   ],
   "source": [
    "#Exploring data\n",
    "print('Number of features:', len(enron_df.columns))\n",
    "print('Number of employees:', len(employees))\n",
    "\n",
    "poi_count = 0\n",
    "for person in data_dict:\n",
    "\tif data_dict[person][\"poi\"]==1:\n",
    "\t\tpoi_count +=1 \n",
    "print(\"Number of POI in dataset:\", poi_count)"
   ]
  },
  {
   "cell_type": "code",
   "execution_count": 6,
   "metadata": {},
   "outputs": [
    {
     "data": {
      "text/html": [
       "<div>\n",
       "<style scoped>\n",
       "    .dataframe tbody tr th:only-of-type {\n",
       "        vertical-align: middle;\n",
       "    }\n",
       "\n",
       "    .dataframe tbody tr th {\n",
       "        vertical-align: top;\n",
       "    }\n",
       "\n",
       "    .dataframe thead th {\n",
       "        text-align: right;\n",
       "    }\n",
       "</style>\n",
       "<table border=\"1\" class=\"dataframe\">\n",
       "  <thead>\n",
       "    <tr style=\"text-align: right;\">\n",
       "      <th></th>\n",
       "      <th>bonus</th>\n",
       "      <th>deferral_payments</th>\n",
       "      <th>deferred_income</th>\n",
       "      <th>director_fees</th>\n",
       "      <th>email_address</th>\n",
       "      <th>exercised_stock_options</th>\n",
       "      <th>expenses</th>\n",
       "      <th>from_messages</th>\n",
       "      <th>from_poi_to_this_person</th>\n",
       "      <th>from_this_person_to_poi</th>\n",
       "      <th>...</th>\n",
       "      <th>long_term_incentive</th>\n",
       "      <th>other</th>\n",
       "      <th>poi</th>\n",
       "      <th>restricted_stock</th>\n",
       "      <th>restricted_stock_deferred</th>\n",
       "      <th>salary</th>\n",
       "      <th>shared_receipt_with_poi</th>\n",
       "      <th>to_messages</th>\n",
       "      <th>total_payments</th>\n",
       "      <th>total_stock_value</th>\n",
       "    </tr>\n",
       "  </thead>\n",
       "  <tbody>\n",
       "    <tr>\n",
       "      <th>METTS MARK</th>\n",
       "      <td>600000</td>\n",
       "      <td>NaN</td>\n",
       "      <td>NaN</td>\n",
       "      <td>NaN</td>\n",
       "      <td>mark.metts@enron.com</td>\n",
       "      <td>NaN</td>\n",
       "      <td>94299</td>\n",
       "      <td>29</td>\n",
       "      <td>38</td>\n",
       "      <td>1</td>\n",
       "      <td>...</td>\n",
       "      <td>NaN</td>\n",
       "      <td>1740</td>\n",
       "      <td>False</td>\n",
       "      <td>585062</td>\n",
       "      <td>NaN</td>\n",
       "      <td>365788</td>\n",
       "      <td>702</td>\n",
       "      <td>807</td>\n",
       "      <td>1061827</td>\n",
       "      <td>585062</td>\n",
       "    </tr>\n",
       "    <tr>\n",
       "      <th>BAXTER JOHN C</th>\n",
       "      <td>1200000</td>\n",
       "      <td>1295738</td>\n",
       "      <td>-1386055</td>\n",
       "      <td>NaN</td>\n",
       "      <td>NaN</td>\n",
       "      <td>6680544</td>\n",
       "      <td>11200</td>\n",
       "      <td>NaN</td>\n",
       "      <td>NaN</td>\n",
       "      <td>NaN</td>\n",
       "      <td>...</td>\n",
       "      <td>1586055</td>\n",
       "      <td>2660303</td>\n",
       "      <td>False</td>\n",
       "      <td>3942714</td>\n",
       "      <td>NaN</td>\n",
       "      <td>267102</td>\n",
       "      <td>NaN</td>\n",
       "      <td>NaN</td>\n",
       "      <td>5634343</td>\n",
       "      <td>10623258</td>\n",
       "    </tr>\n",
       "    <tr>\n",
       "      <th>ELLIOTT STEVEN</th>\n",
       "      <td>350000</td>\n",
       "      <td>NaN</td>\n",
       "      <td>-400729</td>\n",
       "      <td>NaN</td>\n",
       "      <td>steven.elliott@enron.com</td>\n",
       "      <td>4890344</td>\n",
       "      <td>78552</td>\n",
       "      <td>NaN</td>\n",
       "      <td>NaN</td>\n",
       "      <td>NaN</td>\n",
       "      <td>...</td>\n",
       "      <td>NaN</td>\n",
       "      <td>12961</td>\n",
       "      <td>False</td>\n",
       "      <td>1788391</td>\n",
       "      <td>NaN</td>\n",
       "      <td>170941</td>\n",
       "      <td>NaN</td>\n",
       "      <td>NaN</td>\n",
       "      <td>211725</td>\n",
       "      <td>6678735</td>\n",
       "    </tr>\n",
       "    <tr>\n",
       "      <th>CORDES WILLIAM R</th>\n",
       "      <td>NaN</td>\n",
       "      <td>NaN</td>\n",
       "      <td>NaN</td>\n",
       "      <td>NaN</td>\n",
       "      <td>bill.cordes@enron.com</td>\n",
       "      <td>651850</td>\n",
       "      <td>NaN</td>\n",
       "      <td>12</td>\n",
       "      <td>10</td>\n",
       "      <td>0</td>\n",
       "      <td>...</td>\n",
       "      <td>NaN</td>\n",
       "      <td>NaN</td>\n",
       "      <td>False</td>\n",
       "      <td>386335</td>\n",
       "      <td>NaN</td>\n",
       "      <td>NaN</td>\n",
       "      <td>58</td>\n",
       "      <td>764</td>\n",
       "      <td>NaN</td>\n",
       "      <td>1038185</td>\n",
       "    </tr>\n",
       "    <tr>\n",
       "      <th>HANNON KEVIN P</th>\n",
       "      <td>1500000</td>\n",
       "      <td>NaN</td>\n",
       "      <td>-3117011</td>\n",
       "      <td>NaN</td>\n",
       "      <td>kevin.hannon@enron.com</td>\n",
       "      <td>5538001</td>\n",
       "      <td>34039</td>\n",
       "      <td>32</td>\n",
       "      <td>32</td>\n",
       "      <td>21</td>\n",
       "      <td>...</td>\n",
       "      <td>1617011</td>\n",
       "      <td>11350</td>\n",
       "      <td>True</td>\n",
       "      <td>853064</td>\n",
       "      <td>NaN</td>\n",
       "      <td>243293</td>\n",
       "      <td>1035</td>\n",
       "      <td>1045</td>\n",
       "      <td>288682</td>\n",
       "      <td>6391065</td>\n",
       "    </tr>\n",
       "  </tbody>\n",
       "</table>\n",
       "<p>5 rows × 21 columns</p>\n",
       "</div>"
      ],
      "text/plain": [
       "                    bonus deferral_payments deferred_income director_fees  \\\n",
       "METTS MARK         600000               NaN             NaN           NaN   \n",
       "BAXTER JOHN C     1200000           1295738        -1386055           NaN   \n",
       "ELLIOTT STEVEN     350000               NaN         -400729           NaN   \n",
       "CORDES WILLIAM R      NaN               NaN             NaN           NaN   \n",
       "HANNON KEVIN P    1500000               NaN        -3117011           NaN   \n",
       "\n",
       "                             email_address exercised_stock_options expenses  \\\n",
       "METTS MARK            mark.metts@enron.com                     NaN    94299   \n",
       "BAXTER JOHN C                          NaN                 6680544    11200   \n",
       "ELLIOTT STEVEN    steven.elliott@enron.com                 4890344    78552   \n",
       "CORDES WILLIAM R     bill.cordes@enron.com                  651850      NaN   \n",
       "HANNON KEVIN P      kevin.hannon@enron.com                 5538001    34039   \n",
       "\n",
       "                 from_messages from_poi_to_this_person  \\\n",
       "METTS MARK                  29                      38   \n",
       "BAXTER JOHN C              NaN                     NaN   \n",
       "ELLIOTT STEVEN             NaN                     NaN   \n",
       "CORDES WILLIAM R            12                      10   \n",
       "HANNON KEVIN P              32                      32   \n",
       "\n",
       "                 from_this_person_to_poi        ...         \\\n",
       "METTS MARK                             1        ...          \n",
       "BAXTER JOHN C                        NaN        ...          \n",
       "ELLIOTT STEVEN                       NaN        ...          \n",
       "CORDES WILLIAM R                       0        ...          \n",
       "HANNON KEVIN P                        21        ...          \n",
       "\n",
       "                 long_term_incentive    other    poi  restricted_stock  \\\n",
       "METTS MARK                       NaN     1740  False            585062   \n",
       "BAXTER JOHN C                1586055  2660303  False           3942714   \n",
       "ELLIOTT STEVEN                   NaN    12961  False           1788391   \n",
       "CORDES WILLIAM R                 NaN      NaN  False            386335   \n",
       "HANNON KEVIN P               1617011    11350   True            853064   \n",
       "\n",
       "                 restricted_stock_deferred  salary shared_receipt_with_poi  \\\n",
       "METTS MARK                             NaN  365788                     702   \n",
       "BAXTER JOHN C                          NaN  267102                     NaN   \n",
       "ELLIOTT STEVEN                         NaN  170941                     NaN   \n",
       "CORDES WILLIAM R                       NaN     NaN                      58   \n",
       "HANNON KEVIN P                         NaN  243293                    1035   \n",
       "\n",
       "                 to_messages total_payments total_stock_value  \n",
       "METTS MARK               807        1061827            585062  \n",
       "BAXTER JOHN C            NaN        5634343          10623258  \n",
       "ELLIOTT STEVEN           NaN         211725           6678735  \n",
       "CORDES WILLIAM R         764            NaN           1038185  \n",
       "HANNON KEVIN P          1045         288682           6391065  \n",
       "\n",
       "[5 rows x 21 columns]"
      ]
     },
     "execution_count": 6,
     "metadata": {},
     "output_type": "execute_result"
    }
   ],
   "source": [
    "enron_df.head(5)"
   ]
  },
  {
   "cell_type": "code",
   "execution_count": 7,
   "metadata": {},
   "outputs": [
    {
     "data": {
      "text/plain": [
       "bonus                        object\n",
       "deferral_payments            object\n",
       "deferred_income              object\n",
       "director_fees                object\n",
       "email_address                object\n",
       "exercised_stock_options      object\n",
       "expenses                     object\n",
       "from_messages                object\n",
       "from_poi_to_this_person      object\n",
       "from_this_person_to_poi      object\n",
       "loan_advances                object\n",
       "long_term_incentive          object\n",
       "other                        object\n",
       "poi                            bool\n",
       "restricted_stock             object\n",
       "restricted_stock_deferred    object\n",
       "salary                       object\n",
       "shared_receipt_with_poi      object\n",
       "to_messages                  object\n",
       "total_payments               object\n",
       "total_stock_value            object\n",
       "dtype: object"
      ]
     },
     "execution_count": 7,
     "metadata": {},
     "output_type": "execute_result"
    }
   ],
   "source": [
    "enron_df.dtypes"
   ]
  },
  {
   "cell_type": "markdown",
   "metadata": {},
   "source": [
    "Notamos que, com execeção a 'poi', todos os atributos são do tipo 'object'.<br>\n",
    "Resolveremos isso mudando o tipo para numérico (int ou float).<br>"
   ]
  },
  {
   "cell_type": "code",
   "execution_count": 8,
   "metadata": {
    "scrolled": true
   },
   "outputs": [
    {
     "data": {
      "text/html": [
       "<div>\n",
       "<style scoped>\n",
       "    .dataframe tbody tr th:only-of-type {\n",
       "        vertical-align: middle;\n",
       "    }\n",
       "\n",
       "    .dataframe tbody tr th {\n",
       "        vertical-align: top;\n",
       "    }\n",
       "\n",
       "    .dataframe thead th {\n",
       "        text-align: right;\n",
       "    }\n",
       "</style>\n",
       "<table border=\"1\" class=\"dataframe\">\n",
       "  <thead>\n",
       "    <tr style=\"text-align: right;\">\n",
       "      <th></th>\n",
       "      <th>bonus</th>\n",
       "      <th>deferral_payments</th>\n",
       "      <th>deferred_income</th>\n",
       "      <th>director_fees</th>\n",
       "      <th>email_address</th>\n",
       "      <th>exercised_stock_options</th>\n",
       "      <th>expenses</th>\n",
       "      <th>from_messages</th>\n",
       "      <th>from_poi_to_this_person</th>\n",
       "      <th>from_this_person_to_poi</th>\n",
       "      <th>...</th>\n",
       "      <th>long_term_incentive</th>\n",
       "      <th>other</th>\n",
       "      <th>poi</th>\n",
       "      <th>restricted_stock</th>\n",
       "      <th>restricted_stock_deferred</th>\n",
       "      <th>salary</th>\n",
       "      <th>shared_receipt_with_poi</th>\n",
       "      <th>to_messages</th>\n",
       "      <th>total_payments</th>\n",
       "      <th>total_stock_value</th>\n",
       "    </tr>\n",
       "  </thead>\n",
       "  <tbody>\n",
       "    <tr>\n",
       "      <th>METTS MARK</th>\n",
       "      <td>600000.0</td>\n",
       "      <td>NaN</td>\n",
       "      <td>NaN</td>\n",
       "      <td>NaN</td>\n",
       "      <td>NaN</td>\n",
       "      <td>NaN</td>\n",
       "      <td>94299.0</td>\n",
       "      <td>29.0</td>\n",
       "      <td>38.0</td>\n",
       "      <td>1.0</td>\n",
       "      <td>...</td>\n",
       "      <td>NaN</td>\n",
       "      <td>1740.0</td>\n",
       "      <td>False</td>\n",
       "      <td>585062.0</td>\n",
       "      <td>NaN</td>\n",
       "      <td>365788.0</td>\n",
       "      <td>702.0</td>\n",
       "      <td>807.0</td>\n",
       "      <td>1061827.0</td>\n",
       "      <td>585062.0</td>\n",
       "    </tr>\n",
       "    <tr>\n",
       "      <th>BAXTER JOHN C</th>\n",
       "      <td>1200000.0</td>\n",
       "      <td>1295738.0</td>\n",
       "      <td>-1386055.0</td>\n",
       "      <td>NaN</td>\n",
       "      <td>NaN</td>\n",
       "      <td>6680544.0</td>\n",
       "      <td>11200.0</td>\n",
       "      <td>NaN</td>\n",
       "      <td>NaN</td>\n",
       "      <td>NaN</td>\n",
       "      <td>...</td>\n",
       "      <td>1586055.0</td>\n",
       "      <td>2660303.0</td>\n",
       "      <td>False</td>\n",
       "      <td>3942714.0</td>\n",
       "      <td>NaN</td>\n",
       "      <td>267102.0</td>\n",
       "      <td>NaN</td>\n",
       "      <td>NaN</td>\n",
       "      <td>5634343.0</td>\n",
       "      <td>10623258.0</td>\n",
       "    </tr>\n",
       "    <tr>\n",
       "      <th>ELLIOTT STEVEN</th>\n",
       "      <td>350000.0</td>\n",
       "      <td>NaN</td>\n",
       "      <td>-400729.0</td>\n",
       "      <td>NaN</td>\n",
       "      <td>NaN</td>\n",
       "      <td>4890344.0</td>\n",
       "      <td>78552.0</td>\n",
       "      <td>NaN</td>\n",
       "      <td>NaN</td>\n",
       "      <td>NaN</td>\n",
       "      <td>...</td>\n",
       "      <td>NaN</td>\n",
       "      <td>12961.0</td>\n",
       "      <td>False</td>\n",
       "      <td>1788391.0</td>\n",
       "      <td>NaN</td>\n",
       "      <td>170941.0</td>\n",
       "      <td>NaN</td>\n",
       "      <td>NaN</td>\n",
       "      <td>211725.0</td>\n",
       "      <td>6678735.0</td>\n",
       "    </tr>\n",
       "    <tr>\n",
       "      <th>CORDES WILLIAM R</th>\n",
       "      <td>NaN</td>\n",
       "      <td>NaN</td>\n",
       "      <td>NaN</td>\n",
       "      <td>NaN</td>\n",
       "      <td>NaN</td>\n",
       "      <td>651850.0</td>\n",
       "      <td>NaN</td>\n",
       "      <td>12.0</td>\n",
       "      <td>10.0</td>\n",
       "      <td>0.0</td>\n",
       "      <td>...</td>\n",
       "      <td>NaN</td>\n",
       "      <td>NaN</td>\n",
       "      <td>False</td>\n",
       "      <td>386335.0</td>\n",
       "      <td>NaN</td>\n",
       "      <td>NaN</td>\n",
       "      <td>58.0</td>\n",
       "      <td>764.0</td>\n",
       "      <td>NaN</td>\n",
       "      <td>1038185.0</td>\n",
       "    </tr>\n",
       "    <tr>\n",
       "      <th>HANNON KEVIN P</th>\n",
       "      <td>1500000.0</td>\n",
       "      <td>NaN</td>\n",
       "      <td>-3117011.0</td>\n",
       "      <td>NaN</td>\n",
       "      <td>NaN</td>\n",
       "      <td>5538001.0</td>\n",
       "      <td>34039.0</td>\n",
       "      <td>32.0</td>\n",
       "      <td>32.0</td>\n",
       "      <td>21.0</td>\n",
       "      <td>...</td>\n",
       "      <td>1617011.0</td>\n",
       "      <td>11350.0</td>\n",
       "      <td>True</td>\n",
       "      <td>853064.0</td>\n",
       "      <td>NaN</td>\n",
       "      <td>243293.0</td>\n",
       "      <td>1035.0</td>\n",
       "      <td>1045.0</td>\n",
       "      <td>288682.0</td>\n",
       "      <td>6391065.0</td>\n",
       "    </tr>\n",
       "  </tbody>\n",
       "</table>\n",
       "<p>5 rows × 21 columns</p>\n",
       "</div>"
      ],
      "text/plain": [
       "                      bonus  deferral_payments  deferred_income  \\\n",
       "METTS MARK         600000.0                NaN              NaN   \n",
       "BAXTER JOHN C     1200000.0          1295738.0       -1386055.0   \n",
       "ELLIOTT STEVEN     350000.0                NaN        -400729.0   \n",
       "CORDES WILLIAM R        NaN                NaN              NaN   \n",
       "HANNON KEVIN P    1500000.0                NaN       -3117011.0   \n",
       "\n",
       "                  director_fees  email_address  exercised_stock_options  \\\n",
       "METTS MARK                  NaN            NaN                      NaN   \n",
       "BAXTER JOHN C               NaN            NaN                6680544.0   \n",
       "ELLIOTT STEVEN              NaN            NaN                4890344.0   \n",
       "CORDES WILLIAM R            NaN            NaN                 651850.0   \n",
       "HANNON KEVIN P              NaN            NaN                5538001.0   \n",
       "\n",
       "                  expenses  from_messages  from_poi_to_this_person  \\\n",
       "METTS MARK         94299.0           29.0                     38.0   \n",
       "BAXTER JOHN C      11200.0            NaN                      NaN   \n",
       "ELLIOTT STEVEN     78552.0            NaN                      NaN   \n",
       "CORDES WILLIAM R       NaN           12.0                     10.0   \n",
       "HANNON KEVIN P     34039.0           32.0                     32.0   \n",
       "\n",
       "                  from_this_person_to_poi        ...          \\\n",
       "METTS MARK                            1.0        ...           \n",
       "BAXTER JOHN C                         NaN        ...           \n",
       "ELLIOTT STEVEN                        NaN        ...           \n",
       "CORDES WILLIAM R                      0.0        ...           \n",
       "HANNON KEVIN P                       21.0        ...           \n",
       "\n",
       "                  long_term_incentive      other    poi  restricted_stock  \\\n",
       "METTS MARK                        NaN     1740.0  False          585062.0   \n",
       "BAXTER JOHN C               1586055.0  2660303.0  False         3942714.0   \n",
       "ELLIOTT STEVEN                    NaN    12961.0  False         1788391.0   \n",
       "CORDES WILLIAM R                  NaN        NaN  False          386335.0   \n",
       "HANNON KEVIN P              1617011.0    11350.0   True          853064.0   \n",
       "\n",
       "                  restricted_stock_deferred    salary  \\\n",
       "METTS MARK                              NaN  365788.0   \n",
       "BAXTER JOHN C                           NaN  267102.0   \n",
       "ELLIOTT STEVEN                          NaN  170941.0   \n",
       "CORDES WILLIAM R                        NaN       NaN   \n",
       "HANNON KEVIN P                          NaN  243293.0   \n",
       "\n",
       "                  shared_receipt_with_poi  to_messages  total_payments  \\\n",
       "METTS MARK                          702.0        807.0       1061827.0   \n",
       "BAXTER JOHN C                         NaN          NaN       5634343.0   \n",
       "ELLIOTT STEVEN                        NaN          NaN        211725.0   \n",
       "CORDES WILLIAM R                     58.0        764.0             NaN   \n",
       "HANNON KEVIN P                     1035.0       1045.0        288682.0   \n",
       "\n",
       "                  total_stock_value  \n",
       "METTS MARK                 585062.0  \n",
       "BAXTER JOHN C            10623258.0  \n",
       "ELLIOTT STEVEN            6678735.0  \n",
       "CORDES WILLIAM R          1038185.0  \n",
       "HANNON KEVIN P            6391065.0  \n",
       "\n",
       "[5 rows x 21 columns]"
      ]
     },
     "execution_count": 8,
     "metadata": {},
     "output_type": "execute_result"
    }
   ],
   "source": [
    "enron_df = enron_df.apply(lambda x : pd.to_numeric(x, errors = 'coerce'))\n",
    "enron_df.head()"
   ]
  },
  {
   "cell_type": "code",
   "execution_count": 9,
   "metadata": {},
   "outputs": [
    {
     "name": "stdout",
     "output_type": "stream",
     "text": [
      "[64, 107, 97, 129, 146, 44, 51, 60, 60, 60, 142, 80, 53, 0, 36, 128, 51, 60, 60, 21, 20]\n"
     ]
    }
   ],
   "source": [
    "# Finding the quantity of NaN values\n",
    "list_missing_values = []\n",
    "for feature in enron_df.columns:\n",
    "    list_missing_values.append(enron_df[feature].isnull().sum())\n",
    "print(list_missing_values)"
   ]
  },
  {
   "cell_type": "code",
   "execution_count": 10,
   "metadata": {},
   "outputs": [
    {
     "data": {
      "image/png": "[encoded data removed]",
      "text/plain": [
       "<Figure size 432x288 with 1 Axes>"
      ]
     },
     "metadata": {
      "needs_background": "light"
     },
     "output_type": "display_data"
    }
   ],
   "source": [
    "plt.bar(enron_df.columns, list_missing_values)\n",
    "plt.xlabel(\"Features\")\n",
    "plt.xticks(rotation='vertical')\n",
    "plt.ylabel(\"Missing Values\")\n",
    "plt.title(\"Features X Missing Values\")\n",
    "plt.show()"
   ]
  },
  {
   "cell_type": "markdown",
   "metadata": {},
   "source": [
    "Notamos que há muitos valores NaN (Not A Number) em nosso dataframe.<br>\n",
    "O fato do atributo 'email_address' ser mostrado com todos os valores 'NaN' deve ser desconsiderado, pois isso ocorreu devido a mudança dos tipos dos dados para numérico. Como esse atributo não é relevante para nossa investigação, iremos removê-lo.<br>\n",
    "Existem outros atributos com muitos valores 'NaN',por exemplo 'director_fees' e 'loan_advances', mas optaremos em deixar esses dados por enquanto.<br> \n",
    "Os demais valores 'NaN' serão substituídos por zero."
   ]
  },
  {
   "cell_type": "code",
   "execution_count": 11,
   "metadata": {},
   "outputs": [
    {
     "name": "stdout",
     "output_type": "stream",
     "text": [
      "Number of features: 20\n"
     ]
    }
   ],
   "source": [
    "#Removing 'email_address'\n",
    "df_copy = enron_df\n",
    "df_copy = df_copy.drop('email_address', axis=1)\n",
    "df_copy = df_copy.fillna(0)\n",
    "print('Number of features:', len(df_copy.columns))"
   ]
  },
  {
   "cell_type": "code",
   "execution_count": 12,
   "metadata": {},
   "outputs": [
    {
     "data": {
      "text/html": [
       "<div>\n",
       "<style scoped>\n",
       "    .dataframe tbody tr th:only-of-type {\n",
       "        vertical-align: middle;\n",
       "    }\n",
       "\n",
       "    .dataframe tbody tr th {\n",
       "        vertical-align: top;\n",
       "    }\n",
       "\n",
       "    .dataframe thead th {\n",
       "        text-align: right;\n",
       "    }\n",
       "</style>\n",
       "<table border=\"1\" class=\"dataframe\">\n",
       "  <thead>\n",
       "    <tr style=\"text-align: right;\">\n",
       "      <th></th>\n",
       "      <th>bonus</th>\n",
       "      <th>deferral_payments</th>\n",
       "      <th>deferred_income</th>\n",
       "      <th>director_fees</th>\n",
       "      <th>exercised_stock_options</th>\n",
       "      <th>expenses</th>\n",
       "      <th>from_messages</th>\n",
       "      <th>from_poi_to_this_person</th>\n",
       "      <th>from_this_person_to_poi</th>\n",
       "      <th>loan_advances</th>\n",
       "      <th>long_term_incentive</th>\n",
       "      <th>other</th>\n",
       "      <th>poi</th>\n",
       "      <th>restricted_stock</th>\n",
       "      <th>restricted_stock_deferred</th>\n",
       "      <th>salary</th>\n",
       "      <th>shared_receipt_with_poi</th>\n",
       "      <th>to_messages</th>\n",
       "      <th>total_payments</th>\n",
       "      <th>total_stock_value</th>\n",
       "    </tr>\n",
       "  </thead>\n",
       "  <tbody>\n",
       "    <tr>\n",
       "      <th>METTS MARK</th>\n",
       "      <td>600000.0</td>\n",
       "      <td>0.0</td>\n",
       "      <td>0.0</td>\n",
       "      <td>0.0</td>\n",
       "      <td>0.0</td>\n",
       "      <td>94299.0</td>\n",
       "      <td>29.0</td>\n",
       "      <td>38.0</td>\n",
       "      <td>1.0</td>\n",
       "      <td>0.0</td>\n",
       "      <td>0.0</td>\n",
       "      <td>1740.0</td>\n",
       "      <td>False</td>\n",
       "      <td>585062.0</td>\n",
       "      <td>0.0</td>\n",
       "      <td>365788.0</td>\n",
       "      <td>702.0</td>\n",
       "      <td>807.0</td>\n",
       "      <td>1061827.0</td>\n",
       "      <td>585062.0</td>\n",
       "    </tr>\n",
       "    <tr>\n",
       "      <th>BAXTER JOHN C</th>\n",
       "      <td>1200000.0</td>\n",
       "      <td>1295738.0</td>\n",
       "      <td>-1386055.0</td>\n",
       "      <td>0.0</td>\n",
       "      <td>6680544.0</td>\n",
       "      <td>11200.0</td>\n",
       "      <td>0.0</td>\n",
       "      <td>0.0</td>\n",
       "      <td>0.0</td>\n",
       "      <td>0.0</td>\n",
       "      <td>1586055.0</td>\n",
       "      <td>2660303.0</td>\n",
       "      <td>False</td>\n",
       "      <td>3942714.0</td>\n",
       "      <td>0.0</td>\n",
       "      <td>267102.0</td>\n",
       "      <td>0.0</td>\n",
       "      <td>0.0</td>\n",
       "      <td>5634343.0</td>\n",
       "      <td>10623258.0</td>\n",
       "    </tr>\n",
       "    <tr>\n",
       "      <th>ELLIOTT STEVEN</th>\n",
       "      <td>350000.0</td>\n",
       "      <td>0.0</td>\n",
       "      <td>-400729.0</td>\n",
       "      <td>0.0</td>\n",
       "      <td>4890344.0</td>\n",
       "      <td>78552.0</td>\n",
       "      <td>0.0</td>\n",
       "      <td>0.0</td>\n",
       "      <td>0.0</td>\n",
       "      <td>0.0</td>\n",
       "      <td>0.0</td>\n",
       "      <td>12961.0</td>\n",
       "      <td>False</td>\n",
       "      <td>1788391.0</td>\n",
       "      <td>0.0</td>\n",
       "      <td>170941.0</td>\n",
       "      <td>0.0</td>\n",
       "      <td>0.0</td>\n",
       "      <td>211725.0</td>\n",
       "      <td>6678735.0</td>\n",
       "    </tr>\n",
       "    <tr>\n",
       "      <th>CORDES WILLIAM R</th>\n",
       "      <td>0.0</td>\n",
       "      <td>0.0</td>\n",
       "      <td>0.0</td>\n",
       "      <td>0.0</td>\n",
       "      <td>651850.0</td>\n",
       "      <td>0.0</td>\n",
       "      <td>12.0</td>\n",
       "      <td>10.0</td>\n",
       "      <td>0.0</td>\n",
       "      <td>0.0</td>\n",
       "      <td>0.0</td>\n",
       "      <td>0.0</td>\n",
       "      <td>False</td>\n",
       "      <td>386335.0</td>\n",
       "      <td>0.0</td>\n",
       "      <td>0.0</td>\n",
       "      <td>58.0</td>\n",
       "      <td>764.0</td>\n",
       "      <td>0.0</td>\n",
       "      <td>1038185.0</td>\n",
       "    </tr>\n",
       "    <tr>\n",
       "      <th>HANNON KEVIN P</th>\n",
       "      <td>1500000.0</td>\n",
       "      <td>0.0</td>\n",
       "      <td>-3117011.0</td>\n",
       "      <td>0.0</td>\n",
       "      <td>5538001.0</td>\n",
       "      <td>34039.0</td>\n",
       "      <td>32.0</td>\n",
       "      <td>32.0</td>\n",
       "      <td>21.0</td>\n",
       "      <td>0.0</td>\n",
       "      <td>1617011.0</td>\n",
       "      <td>11350.0</td>\n",
       "      <td>True</td>\n",
       "      <td>853064.0</td>\n",
       "      <td>0.0</td>\n",
       "      <td>243293.0</td>\n",
       "      <td>1035.0</td>\n",
       "      <td>1045.0</td>\n",
       "      <td>288682.0</td>\n",
       "      <td>6391065.0</td>\n",
       "    </tr>\n",
       "  </tbody>\n",
       "</table>\n",
       "</div>"
      ],
      "text/plain": [
       "                      bonus  deferral_payments  deferred_income  \\\n",
       "METTS MARK         600000.0                0.0              0.0   \n",
       "BAXTER JOHN C     1200000.0          1295738.0       -1386055.0   \n",
       "ELLIOTT STEVEN     350000.0                0.0        -400729.0   \n",
       "CORDES WILLIAM R        0.0                0.0              0.0   \n",
       "HANNON KEVIN P    1500000.0                0.0       -3117011.0   \n",
       "\n",
       "                  director_fees  exercised_stock_options  expenses  \\\n",
       "METTS MARK                  0.0                      0.0   94299.0   \n",
       "BAXTER JOHN C               0.0                6680544.0   11200.0   \n",
       "ELLIOTT STEVEN              0.0                4890344.0   78552.0   \n",
       "CORDES WILLIAM R            0.0                 651850.0       0.0   \n",
       "HANNON KEVIN P              0.0                5538001.0   34039.0   \n",
       "\n",
       "                  from_messages  from_poi_to_this_person  \\\n",
       "METTS MARK                 29.0                     38.0   \n",
       "BAXTER JOHN C               0.0                      0.0   \n",
       "ELLIOTT STEVEN              0.0                      0.0   \n",
       "CORDES WILLIAM R           12.0                     10.0   \n",
       "HANNON KEVIN P             32.0                     32.0   \n",
       "\n",
       "                  from_this_person_to_poi  loan_advances  long_term_incentive  \\\n",
       "METTS MARK                            1.0            0.0                  0.0   \n",
       "BAXTER JOHN C                         0.0            0.0            1586055.0   \n",
       "ELLIOTT STEVEN                        0.0            0.0                  0.0   \n",
       "CORDES WILLIAM R                      0.0            0.0                  0.0   \n",
       "HANNON KEVIN P                       21.0            0.0            1617011.0   \n",
       "\n",
       "                      other    poi  restricted_stock  \\\n",
       "METTS MARK           1740.0  False          585062.0   \n",
       "BAXTER JOHN C     2660303.0  False         3942714.0   \n",
       "ELLIOTT STEVEN      12961.0  False         1788391.0   \n",
       "CORDES WILLIAM R        0.0  False          386335.0   \n",
       "HANNON KEVIN P      11350.0   True          853064.0   \n",
       "\n",
       "                  restricted_stock_deferred    salary  \\\n",
       "METTS MARK                              0.0  365788.0   \n",
       "BAXTER JOHN C                           0.0  267102.0   \n",
       "ELLIOTT STEVEN                          0.0  170941.0   \n",
       "CORDES WILLIAM R                        0.0       0.0   \n",
       "HANNON KEVIN P                          0.0  243293.0   \n",
       "\n",
       "                  shared_receipt_with_poi  to_messages  total_payments  \\\n",
       "METTS MARK                          702.0        807.0       1061827.0   \n",
       "BAXTER JOHN C                         0.0          0.0       5634343.0   \n",
       "ELLIOTT STEVEN                        0.0          0.0        211725.0   \n",
       "CORDES WILLIAM R                     58.0        764.0             0.0   \n",
       "HANNON KEVIN P                     1035.0       1045.0        288682.0   \n",
       "\n",
       "                  total_stock_value  \n",
       "METTS MARK                 585062.0  \n",
       "BAXTER JOHN C            10623258.0  \n",
       "ELLIOTT STEVEN            6678735.0  \n",
       "CORDES WILLIAM R          1038185.0  \n",
       "HANNON KEVIN P            6391065.0  "
      ]
     },
     "execution_count": 12,
     "metadata": {},
     "output_type": "execute_result"
    }
   ],
   "source": [
    "df_copy.head()"
   ]
  },
  {
   "cell_type": "markdown",
   "metadata": {},
   "source": [
    "No final os atributos escolhidos foram:"
   ]
  },
  {
   "cell_type": "code",
   "execution_count": 13,
   "metadata": {},
   "outputs": [],
   "source": [
    "features_list = ['poi','salary', 'bonus', 'deferral_payments', 'deferred_income', 'director_fees',\n",
    "                 'exercised_stock_options', 'expenses', 'from_messages', 'from_poi_to_this_person',\n",
    "\t\t\t\t 'from_this_person_to_poi', 'loan_advances', 'long_term_incentive', 'other',\n",
    "\t\t\t\t 'restricted_stock', 'restricted_stock_deferred','shared_receipt_with_poi',\n",
    "                 'to_messages', 'total_payments', 'total_stock_value']"
   ]
  },
  {
   "cell_type": "markdown",
   "metadata": {},
   "source": [
    "### Task 2: Remove outliers ###"
   ]
  },
  {
   "cell_type": "markdown",
   "metadata": {},
   "source": [
    "Analisaremos alguns atributos para verificarmos se há a existência de outliers no nosso conjunto de dados."
   ]
  },
  {
   "cell_type": "code",
   "execution_count": 14,
   "metadata": {},
   "outputs": [
    {
     "data": {
      "image/png": "[encoded data removed]",
      "text/plain": [
       "<Figure size 432x288 with 1 Axes>"
      ]
     },
     "metadata": {
      "needs_background": "light"
     },
     "output_type": "display_data"
    }
   ],
   "source": [
    "plt.scatter(df_copy['salary'][df_copy['poi'] == True],df_copy['bonus'][df_copy['poi'] == True],color = 'red', label = 'POI')\n",
    "plt.scatter(df_copy['salary'][df_copy['poi'] == False],df_copy['bonus'][df_copy['poi'] == False],color = 'blue', label = 'NoPOI')\n",
    "\n",
    "plt.xlabel(\"bonus\")\n",
    "plt.ylabel(\"salary\")\n",
    "plt.title(\"Salary X Bonus\")\n",
    "plt.legend(loc='best')\n",
    "plt.show()"
   ]
  },
  {
   "cell_type": "code",
   "execution_count": 15,
   "metadata": {},
   "outputs": [
    {
     "data": {
      "text/plain": [
       "'TOTAL'"
      ]
     },
     "execution_count": 15,
     "metadata": {},
     "output_type": "execute_result"
    }
   ],
   "source": [
    "df_copy['salary'].idxmax()"
   ]
  },
  {
   "cell_type": "markdown",
   "metadata": {},
   "source": [
    "Verificamos bem nitidamente um outlier no gráfico 'bonus x salary' e na cécula acima temos que trata-se do 'TOTAL'.<br>\n",
    "Portanto, iremos remover esse outlier e veremos como ficará o gráfico."
   ]
  },
  {
   "cell_type": "code",
   "execution_count": 16,
   "metadata": {},
   "outputs": [
    {
     "data": {
      "image/png": "[encoded data removed]",
      "text/plain": [
       "<Figure size 432x288 with 1 Axes>"
      ]
     },
     "metadata": {
      "needs_background": "light"
     },
     "output_type": "display_data"
    }
   ],
   "source": [
    "#Removendo o primeiro outlier: TOTAL\n",
    "df_copy = df_copy.drop('TOTAL', axis=0)\n",
    "\n",
    "plt.scatter(df_copy['salary'][df_copy['poi'] == True],df_copy['bonus'][df_copy['poi'] == True],color = 'red', label = 'POI')\n",
    "plt.scatter(df_copy['salary'][df_copy['poi'] == False],df_copy['bonus'][df_copy['poi'] == False],color = 'blue', label = 'NoPOI')\n",
    "\n",
    "plt.xlabel(\"bonus\")\n",
    "plt.ylabel(\"salary\")\n",
    "plt.title(\"Salary X Bonus\")\n",
    "plt.legend(loc='best')\n",
    "plt.show()"
   ]
  },
  {
   "cell_type": "markdown",
   "metadata": {},
   "source": [
    "Após a remoção do outlier temos um gráfico com valores um mais espalhados e coerente."
   ]
  },
  {
   "cell_type": "markdown",
   "metadata": {},
   "source": [
    "Segundo o arquivo 'enron61702insiderpay.pdf' cedido pela FindLaw, temos um dado com o nome 'THE TRAVEL AGENCY IN THE PARK'.\n",
    "Verificaremos se há alguma informação importante nesse dado."
   ]
  },
  {
   "cell_type": "code",
   "execution_count": 17,
   "metadata": {},
   "outputs": [
    {
     "data": {
      "text/plain": [
       "bonus                             0\n",
       "deferral_payments                 0\n",
       "deferred_income                   0\n",
       "director_fees                     0\n",
       "exercised_stock_options           0\n",
       "expenses                          0\n",
       "from_messages                     0\n",
       "from_poi_to_this_person           0\n",
       "from_this_person_to_poi           0\n",
       "loan_advances                     0\n",
       "long_term_incentive               0\n",
       "other                        362096\n",
       "poi                           False\n",
       "restricted_stock                  0\n",
       "restricted_stock_deferred         0\n",
       "salary                            0\n",
       "shared_receipt_with_poi           0\n",
       "to_messages                       0\n",
       "total_payments               362096\n",
       "total_stock_value                 0\n",
       "Name: THE TRAVEL AGENCY IN THE PARK, dtype: object"
      ]
     },
     "execution_count": 17,
     "metadata": {},
     "output_type": "execute_result"
    }
   ],
   "source": [
    "df_copy.loc['THE TRAVEL AGENCY IN THE PARK']"
   ]
  },
  {
   "cell_type": "markdown",
   "metadata": {},
   "source": [
    "Notamos que, com exceção a 'total_payments', 'other' e 'poi', os valores dos seus atributos são zero.<br>\n",
    "Com isso, faremos a remoção por se tratar de um outlier de valores muito baixos."
   ]
  },
  {
   "cell_type": "code",
   "execution_count": 18,
   "metadata": {},
   "outputs": [],
   "source": [
    "# Removendo o segundo outlier: THE TRAVEL AGENCY IN THE PARK\n",
    "df_copy = df_copy.drop('THE TRAVEL AGENCY IN THE PARK', axis = 0)"
   ]
  },
  {
   "cell_type": "markdown",
   "metadata": {},
   "source": [
    "Agora verificaremos a relação entre 'total_payments' e 'deferral_payments'"
   ]
  },
  {
   "cell_type": "code",
   "execution_count": 19,
   "metadata": {},
   "outputs": [
    {
     "data": {
      "image/png": "[encoded data removed]",
      "text/plain": [
       "<Figure size 432x288 with 1 Axes>"
      ]
     },
     "metadata": {
      "needs_background": "light"
     },
     "output_type": "display_data"
    }
   ],
   "source": [
    "plt.scatter(df_copy['total_payments'][df_copy['poi'] == True], df_copy['deferral_payments'][df_copy['poi'] == True],\n",
    "            color = 'r', label = 'POI')\n",
    "\n",
    "plt.scatter(df_copy['total_payments'][df_copy['poi'] == False], df_copy['deferral_payments'][df_copy['poi'] == False],\n",
    "            color = 'b', label = 'NoPOI')\n",
    "\n",
    "    \n",
    "plt.xlabel('total_payments')\n",
    "plt.ylabel('deferral_payments')\n",
    "plt.title('total_payments X deferral_payments')\n",
    "plt.legend(loc='best')\n",
    "plt.show()"
   ]
  },
  {
   "cell_type": "markdown",
   "metadata": {},
   "source": [
    "Pelo gráfico notamos que há dois outliers. Como o foco do estudo são os pessoas de interesse (POI), eliminaremos apenas o outlier NoPOI."
   ]
  },
  {
   "cell_type": "code",
   "execution_count": 20,
   "metadata": {},
   "outputs": [
    {
     "data": {
      "text/plain": [
       "'FREVERT MARK A'"
      ]
     },
     "execution_count": 20,
     "metadata": {},
     "output_type": "execute_result"
    }
   ],
   "source": [
    "df_copy['deferral_payments'].idxmax()"
   ]
  },
  {
   "cell_type": "code",
   "execution_count": 21,
   "metadata": {},
   "outputs": [],
   "source": [
    "# Removendo o terceiro outlier: 'FREVERT MARK A'\n",
    "df_copy = df_copy.drop('FREVERT MARK A', axis = 0)"
   ]
  },
  {
   "cell_type": "markdown",
   "metadata": {},
   "source": [
    "O próximo atributo a ser verificado será o 'long_term_incentive'."
   ]
  },
  {
   "cell_type": "code",
   "execution_count": 22,
   "metadata": {},
   "outputs": [
    {
     "data": {
      "image/png": "[encoded data removed]",
      "text/plain": [
       "<Figure size 432x288 with 1 Axes>"
      ]
     },
     "metadata": {
      "needs_background": "light"
     },
     "output_type": "display_data"
    }
   ],
   "source": [
    "# Encontrando os index numéricos de POIs e NoPOIs\n",
    "poi_index = []\n",
    "non_poi_index = []\n",
    "\n",
    "for i in range(len(df_copy['poi'])):\n",
    "    if(df_copy['poi'][i] == True):\n",
    "        poi_index.append(i+1)\n",
    "    else:\n",
    "        non_poi_index.append(i+1)\n",
    "        \n",
    "# Scatterplot\n",
    "plt.scatter(poi_index, df_copy['long_term_incentive'][df_copy['poi'] == True],\n",
    "            color = 'r', label = 'POI')\n",
    "plt.scatter(non_poi_index, df_copy['long_term_incentive'][df_copy['poi'] == False],\n",
    "            color = 'b', label = 'NoPOI')\n",
    "\n",
    "    \n",
    "plt.xlabel('Employees')\n",
    "plt.ylabel('long_term_incentive')\n",
    "plt.title(\"Employee number com long_term_incentive\")\n",
    "plt.legend(loc='best')\n",
    "plt.show()"
   ]
  },
  {
   "cell_type": "markdown",
   "metadata": {},
   "source": [
    "Notamos que há um ponto bem acima dos demais. Portanto, iremos removê-lo."
   ]
  },
  {
   "cell_type": "code",
   "execution_count": 23,
   "metadata": {},
   "outputs": [
    {
     "data": {
      "text/plain": [
       "'MARTIN AMANDA K'"
      ]
     },
     "execution_count": 23,
     "metadata": {},
     "output_type": "execute_result"
    }
   ],
   "source": [
    "df_copy['long_term_incentive'].idxmax()"
   ]
  },
  {
   "cell_type": "code",
   "execution_count": 24,
   "metadata": {},
   "outputs": [],
   "source": [
    "#Removendo o quarto outlier: 'MARTIN AMANDA K'\n",
    "df_copy = df_copy.drop('MARTIN AMANDA K', axis = 0)"
   ]
  },
  {
   "cell_type": "markdown",
   "metadata": {},
   "source": [
    "Os próximos atributos a serem verificados serão 'restricted_stock' e 'restricted_stock_deferred'."
   ]
  },
  {
   "cell_type": "code",
   "execution_count": 25,
   "metadata": {},
   "outputs": [
    {
     "data": {
      "image/png": "[encoded data removed]",
      "text/plain": [
       "<Figure size 432x288 with 1 Axes>"
      ]
     },
     "metadata": {
      "needs_background": "light"
     },
     "output_type": "display_data"
    }
   ],
   "source": [
    "plt.scatter(df_copy['restricted_stock'][df_copy['poi'] == True],df_copy['restricted_stock_deferred'][df_copy['poi'] == True],\n",
    "            color = 'r', label = 'POI')\n",
    "\n",
    "plt.scatter(df_copy['restricted_stock'][df_copy['poi'] == False], df_copy['restricted_stock_deferred'][df_copy['poi'] == False],\n",
    "            color = 'b', label = 'Not-POI')\n",
    "\n",
    "    \n",
    "plt.xlabel('restricted_stock')\n",
    "plt.ylabel('restricted_stock_deferred')\n",
    "plt.title(\"Scatterplot of restricted_stock X restricted_stock_deferred\")\n",
    "plt.legend(loc='best')\n",
    "plt.show()"
   ]
  },
  {
   "cell_type": "markdown",
   "metadata": {},
   "source": [
    "Podemos ver que há um outlier que temos que remover."
   ]
  },
  {
   "cell_type": "code",
   "execution_count": 26,
   "metadata": {},
   "outputs": [
    {
     "data": {
      "text/plain": [
       "'BHATNAGAR SANJAY'"
      ]
     },
     "execution_count": 26,
     "metadata": {},
     "output_type": "execute_result"
    }
   ],
   "source": [
    "df_copy['restricted_stock_deferred'].idxmax()"
   ]
  },
  {
   "cell_type": "code",
   "execution_count": 27,
   "metadata": {},
   "outputs": [],
   "source": [
    "# Removendo o quinto outlier: 'BHATNAGAR SANJAY'\n",
    "df_copy = df_copy.drop('BHATNAGAR SANJAY', axis = 0)"
   ]
  },
  {
   "cell_type": "markdown",
   "metadata": {},
   "source": [
    "Verificaremos agora os atributos 'from_poi_to_this_person' e 'from_this_person_to_poi'."
   ]
  },
  {
   "cell_type": "code",
   "execution_count": 28,
   "metadata": {},
   "outputs": [
    {
     "data": {
      "image/png": "[encoded data removed]",
      "text/plain": [
       "<Figure size 432x288 with 1 Axes>"
      ]
     },
     "metadata": {
      "needs_background": "light"
     },
     "output_type": "display_data"
    }
   ],
   "source": [
    "plt.scatter(df_copy['from_poi_to_this_person'][df_copy['poi'] == True], df_copy['from_this_person_to_poi'][df_copy['poi'] == True],\n",
    "            color = 'r', label = 'POI')\n",
    "plt.scatter(df_copy['from_poi_to_this_person'][df_copy['poi'] == False], df_copy['from_this_person_to_poi'][df_copy['poi'] == False],\n",
    "            color = 'b', label = 'Not-POI')\n",
    "    \n",
    "plt.xlabel('from_poi_to_this_person')\n",
    "plt.ylabel('from_this_person_to_poi')\n",
    "plt.title(\"Contagem de e-mails enviados e recebidos por POI\")\n",
    "plt.legend(loc='best')\n",
    "plt.show()"
   ]
  },
  {
   "cell_type": "markdown",
   "metadata": {},
   "source": [
    "Notamos que o gráfico não contém pontos muito fora da realidade.<br>Porém, a proporção de e-mails enviados e recebidos seria uma medida mais correta para encontrarmos POI's do que a contagem representada acima.<br>A criação desse atributo, assim como outros que serão necessários, será feita no próximo tópico."
   ]
  },
  {
   "cell_type": "markdown",
   "metadata": {},
   "source": [
    "A célula abaixo é necessária para realizar a comparação entre o conjunto de dados com e sem os atributos criados.<br>\n",
    "Para verificar o comportamento sem os dados criados, descomente a célula abaixo e não execute as células do tópico \"Task 3: Create new features\""
   ]
  },
  {
   "cell_type": "code",
   "execution_count": 29,
   "metadata": {},
   "outputs": [],
   "source": [
    "## Converting the modified dataframe in a dictionary\n",
    "\n",
    "# data_dict = df_copy.to_dict('index')\n",
    "# print(\"Total number of datapoints:\",len(data_dict))\n",
    "# print(\"Total number of features:\",len(data_dict['ELLIOTT STEVEN']))\n",
    "\n",
    "## Store to my_dataset_first for easy export below.\n",
    "\n",
    "# my_dataset = data_dict\n",
    "\n",
    "## Extract features and labels from dataset for local testing\n",
    "# data = featureFormat(my_dataset, features_list, sort_keys = True)\n",
    "# labels, features = targetFeatureSplit(data)"
   ]
  },
  {
   "cell_type": "markdown",
   "metadata": {},
   "source": [
    "### Task 3: Create new feature(s) ###"
   ]
  },
  {
   "cell_type": "markdown",
   "metadata": {},
   "source": [
    "- bonus_salary_ratio: Relação entre bonus e salário\n",
    "- proportion_mail_from_poi: Proporção entre e-mails enviados por poi para determinada pessoa\n",
    "- proportion_mail_to_poi: Proporção entre e-mails recebidos de poi de determinada pessoa"
   ]
  },
  {
   "cell_type": "code",
   "execution_count": 30,
   "metadata": {},
   "outputs": [],
   "source": [
    "df_copy['bonus_salary_ratio'] = df_copy['bonus']/df_copy['salary']"
   ]
  },
  {
   "cell_type": "code",
   "execution_count": 31,
   "metadata": {},
   "outputs": [
    {
     "data": {
      "text/html": [
       "<div>\n",
       "<style scoped>\n",
       "    .dataframe tbody tr th:only-of-type {\n",
       "        vertical-align: middle;\n",
       "    }\n",
       "\n",
       "    .dataframe tbody tr th {\n",
       "        vertical-align: top;\n",
       "    }\n",
       "\n",
       "    .dataframe thead th {\n",
       "        text-align: right;\n",
       "    }\n",
       "</style>\n",
       "<table border=\"1\" class=\"dataframe\">\n",
       "  <thead>\n",
       "    <tr style=\"text-align: right;\">\n",
       "      <th></th>\n",
       "      <th>bonus</th>\n",
       "      <th>deferral_payments</th>\n",
       "      <th>deferred_income</th>\n",
       "      <th>director_fees</th>\n",
       "      <th>exercised_stock_options</th>\n",
       "      <th>expenses</th>\n",
       "      <th>from_messages</th>\n",
       "      <th>from_poi_to_this_person</th>\n",
       "      <th>from_this_person_to_poi</th>\n",
       "      <th>loan_advances</th>\n",
       "      <th>...</th>\n",
       "      <th>other</th>\n",
       "      <th>poi</th>\n",
       "      <th>restricted_stock</th>\n",
       "      <th>restricted_stock_deferred</th>\n",
       "      <th>salary</th>\n",
       "      <th>shared_receipt_with_poi</th>\n",
       "      <th>to_messages</th>\n",
       "      <th>total_payments</th>\n",
       "      <th>total_stock_value</th>\n",
       "      <th>bonus_salary_ratio</th>\n",
       "    </tr>\n",
       "  </thead>\n",
       "  <tbody>\n",
       "    <tr>\n",
       "      <th>METTS MARK</th>\n",
       "      <td>600000.0</td>\n",
       "      <td>0.0</td>\n",
       "      <td>0.0</td>\n",
       "      <td>0.0</td>\n",
       "      <td>0.0</td>\n",
       "      <td>94299.0</td>\n",
       "      <td>29.0</td>\n",
       "      <td>38.0</td>\n",
       "      <td>1.0</td>\n",
       "      <td>0.0</td>\n",
       "      <td>...</td>\n",
       "      <td>1740.0</td>\n",
       "      <td>False</td>\n",
       "      <td>585062.0</td>\n",
       "      <td>0.0</td>\n",
       "      <td>365788.0</td>\n",
       "      <td>702.0</td>\n",
       "      <td>807.0</td>\n",
       "      <td>1061827.0</td>\n",
       "      <td>585062.0</td>\n",
       "      <td>1.640294</td>\n",
       "    </tr>\n",
       "    <tr>\n",
       "      <th>BAXTER JOHN C</th>\n",
       "      <td>1200000.0</td>\n",
       "      <td>1295738.0</td>\n",
       "      <td>-1386055.0</td>\n",
       "      <td>0.0</td>\n",
       "      <td>6680544.0</td>\n",
       "      <td>11200.0</td>\n",
       "      <td>0.0</td>\n",
       "      <td>0.0</td>\n",
       "      <td>0.0</td>\n",
       "      <td>0.0</td>\n",
       "      <td>...</td>\n",
       "      <td>2660303.0</td>\n",
       "      <td>False</td>\n",
       "      <td>3942714.0</td>\n",
       "      <td>0.0</td>\n",
       "      <td>267102.0</td>\n",
       "      <td>0.0</td>\n",
       "      <td>0.0</td>\n",
       "      <td>5634343.0</td>\n",
       "      <td>10623258.0</td>\n",
       "      <td>4.492666</td>\n",
       "    </tr>\n",
       "    <tr>\n",
       "      <th>ELLIOTT STEVEN</th>\n",
       "      <td>350000.0</td>\n",
       "      <td>0.0</td>\n",
       "      <td>-400729.0</td>\n",
       "      <td>0.0</td>\n",
       "      <td>4890344.0</td>\n",
       "      <td>78552.0</td>\n",
       "      <td>0.0</td>\n",
       "      <td>0.0</td>\n",
       "      <td>0.0</td>\n",
       "      <td>0.0</td>\n",
       "      <td>...</td>\n",
       "      <td>12961.0</td>\n",
       "      <td>False</td>\n",
       "      <td>1788391.0</td>\n",
       "      <td>0.0</td>\n",
       "      <td>170941.0</td>\n",
       "      <td>0.0</td>\n",
       "      <td>0.0</td>\n",
       "      <td>211725.0</td>\n",
       "      <td>6678735.0</td>\n",
       "      <td>2.047490</td>\n",
       "    </tr>\n",
       "    <tr>\n",
       "      <th>CORDES WILLIAM R</th>\n",
       "      <td>0.0</td>\n",
       "      <td>0.0</td>\n",
       "      <td>0.0</td>\n",
       "      <td>0.0</td>\n",
       "      <td>651850.0</td>\n",
       "      <td>0.0</td>\n",
       "      <td>12.0</td>\n",
       "      <td>10.0</td>\n",
       "      <td>0.0</td>\n",
       "      <td>0.0</td>\n",
       "      <td>...</td>\n",
       "      <td>0.0</td>\n",
       "      <td>False</td>\n",
       "      <td>386335.0</td>\n",
       "      <td>0.0</td>\n",
       "      <td>0.0</td>\n",
       "      <td>58.0</td>\n",
       "      <td>764.0</td>\n",
       "      <td>0.0</td>\n",
       "      <td>1038185.0</td>\n",
       "      <td>NaN</td>\n",
       "    </tr>\n",
       "    <tr>\n",
       "      <th>HANNON KEVIN P</th>\n",
       "      <td>1500000.0</td>\n",
       "      <td>0.0</td>\n",
       "      <td>-3117011.0</td>\n",
       "      <td>0.0</td>\n",
       "      <td>5538001.0</td>\n",
       "      <td>34039.0</td>\n",
       "      <td>32.0</td>\n",
       "      <td>32.0</td>\n",
       "      <td>21.0</td>\n",
       "      <td>0.0</td>\n",
       "      <td>...</td>\n",
       "      <td>11350.0</td>\n",
       "      <td>True</td>\n",
       "      <td>853064.0</td>\n",
       "      <td>0.0</td>\n",
       "      <td>243293.0</td>\n",
       "      <td>1035.0</td>\n",
       "      <td>1045.0</td>\n",
       "      <td>288682.0</td>\n",
       "      <td>6391065.0</td>\n",
       "      <td>6.165405</td>\n",
       "    </tr>\n",
       "  </tbody>\n",
       "</table>\n",
       "<p>5 rows × 21 columns</p>\n",
       "</div>"
      ],
      "text/plain": [
       "                      bonus  deferral_payments  deferred_income  \\\n",
       "METTS MARK         600000.0                0.0              0.0   \n",
       "BAXTER JOHN C     1200000.0          1295738.0       -1386055.0   \n",
       "ELLIOTT STEVEN     350000.0                0.0        -400729.0   \n",
       "CORDES WILLIAM R        0.0                0.0              0.0   \n",
       "HANNON KEVIN P    1500000.0                0.0       -3117011.0   \n",
       "\n",
       "                  director_fees  exercised_stock_options  expenses  \\\n",
       "METTS MARK                  0.0                      0.0   94299.0   \n",
       "BAXTER JOHN C               0.0                6680544.0   11200.0   \n",
       "ELLIOTT STEVEN              0.0                4890344.0   78552.0   \n",
       "CORDES WILLIAM R            0.0                 651850.0       0.0   \n",
       "HANNON KEVIN P              0.0                5538001.0   34039.0   \n",
       "\n",
       "                  from_messages  from_poi_to_this_person  \\\n",
       "METTS MARK                 29.0                     38.0   \n",
       "BAXTER JOHN C               0.0                      0.0   \n",
       "ELLIOTT STEVEN              0.0                      0.0   \n",
       "CORDES WILLIAM R           12.0                     10.0   \n",
       "HANNON KEVIN P             32.0                     32.0   \n",
       "\n",
       "                  from_this_person_to_poi  loan_advances         ...          \\\n",
       "METTS MARK                            1.0            0.0         ...           \n",
       "BAXTER JOHN C                         0.0            0.0         ...           \n",
       "ELLIOTT STEVEN                        0.0            0.0         ...           \n",
       "CORDES WILLIAM R                      0.0            0.0         ...           \n",
       "HANNON KEVIN P                       21.0            0.0         ...           \n",
       "\n",
       "                      other    poi  restricted_stock  \\\n",
       "METTS MARK           1740.0  False          585062.0   \n",
       "BAXTER JOHN C     2660303.0  False         3942714.0   \n",
       "ELLIOTT STEVEN      12961.0  False         1788391.0   \n",
       "CORDES WILLIAM R        0.0  False          386335.0   \n",
       "HANNON KEVIN P      11350.0   True          853064.0   \n",
       "\n",
       "                  restricted_stock_deferred    salary  \\\n",
       "METTS MARK                              0.0  365788.0   \n",
       "BAXTER JOHN C                           0.0  267102.0   \n",
       "ELLIOTT STEVEN                          0.0  170941.0   \n",
       "CORDES WILLIAM R                        0.0       0.0   \n",
       "HANNON KEVIN P                          0.0  243293.0   \n",
       "\n",
       "                  shared_receipt_with_poi  to_messages  total_payments  \\\n",
       "METTS MARK                          702.0        807.0       1061827.0   \n",
       "BAXTER JOHN C                         0.0          0.0       5634343.0   \n",
       "ELLIOTT STEVEN                        0.0          0.0        211725.0   \n",
       "CORDES WILLIAM R                     58.0        764.0             0.0   \n",
       "HANNON KEVIN P                     1035.0       1045.0        288682.0   \n",
       "\n",
       "                  total_stock_value  bonus_salary_ratio  \n",
       "METTS MARK                 585062.0            1.640294  \n",
       "BAXTER JOHN C            10623258.0            4.492666  \n",
       "ELLIOTT STEVEN            6678735.0            2.047490  \n",
       "CORDES WILLIAM R          1038185.0                 NaN  \n",
       "HANNON KEVIN P            6391065.0            6.165405  \n",
       "\n",
       "[5 rows x 21 columns]"
      ]
     },
     "execution_count": 31,
     "metadata": {},
     "output_type": "execute_result"
    }
   ],
   "source": [
    "df_copy.head()"
   ]
  },
  {
   "cell_type": "code",
   "execution_count": 32,
   "metadata": {},
   "outputs": [],
   "source": [
    "df_copy['proportion_mail_from_poi'] = df_copy['from_poi_to_this_person']/df_copy['from_messages'] \n",
    "df_copy['proportion_mail_to_poi'] = df_copy['from_this_person_to_poi']/df_copy['to_messages']"
   ]
  },
  {
   "cell_type": "code",
   "execution_count": 33,
   "metadata": {},
   "outputs": [],
   "source": [
    "#Caso tenha ocorrido alguma divisão por zero\n",
    "df_copy = df_copy.replace('inf', 0)\n",
    "df_copy = df_copy.fillna(0)"
   ]
  },
  {
   "cell_type": "code",
   "execution_count": 34,
   "metadata": {},
   "outputs": [
    {
     "data": {
      "text/html": [
       "<div>\n",
       "<style scoped>\n",
       "    .dataframe tbody tr th:only-of-type {\n",
       "        vertical-align: middle;\n",
       "    }\n",
       "\n",
       "    .dataframe tbody tr th {\n",
       "        vertical-align: top;\n",
       "    }\n",
       "\n",
       "    .dataframe thead th {\n",
       "        text-align: right;\n",
       "    }\n",
       "</style>\n",
       "<table border=\"1\" class=\"dataframe\">\n",
       "  <thead>\n",
       "    <tr style=\"text-align: right;\">\n",
       "      <th></th>\n",
       "      <th>bonus</th>\n",
       "      <th>deferral_payments</th>\n",
       "      <th>deferred_income</th>\n",
       "      <th>director_fees</th>\n",
       "      <th>exercised_stock_options</th>\n",
       "      <th>expenses</th>\n",
       "      <th>from_messages</th>\n",
       "      <th>from_poi_to_this_person</th>\n",
       "      <th>from_this_person_to_poi</th>\n",
       "      <th>loan_advances</th>\n",
       "      <th>...</th>\n",
       "      <th>restricted_stock</th>\n",
       "      <th>restricted_stock_deferred</th>\n",
       "      <th>salary</th>\n",
       "      <th>shared_receipt_with_poi</th>\n",
       "      <th>to_messages</th>\n",
       "      <th>total_payments</th>\n",
       "      <th>total_stock_value</th>\n",
       "      <th>bonus_salary_ratio</th>\n",
       "      <th>proportion_mail_from_poi</th>\n",
       "      <th>proportion_mail_to_poi</th>\n",
       "    </tr>\n",
       "  </thead>\n",
       "  <tbody>\n",
       "    <tr>\n",
       "      <th>METTS MARK</th>\n",
       "      <td>600000.0</td>\n",
       "      <td>0.0</td>\n",
       "      <td>0.0</td>\n",
       "      <td>0.0</td>\n",
       "      <td>0.0</td>\n",
       "      <td>94299.0</td>\n",
       "      <td>29.0</td>\n",
       "      <td>38.0</td>\n",
       "      <td>1.0</td>\n",
       "      <td>0.0</td>\n",
       "      <td>...</td>\n",
       "      <td>585062.0</td>\n",
       "      <td>0.0</td>\n",
       "      <td>365788.0</td>\n",
       "      <td>702.0</td>\n",
       "      <td>807.0</td>\n",
       "      <td>1061827.0</td>\n",
       "      <td>585062.0</td>\n",
       "      <td>1.640294</td>\n",
       "      <td>1.310345</td>\n",
       "      <td>0.001239</td>\n",
       "    </tr>\n",
       "    <tr>\n",
       "      <th>BAXTER JOHN C</th>\n",
       "      <td>1200000.0</td>\n",
       "      <td>1295738.0</td>\n",
       "      <td>-1386055.0</td>\n",
       "      <td>0.0</td>\n",
       "      <td>6680544.0</td>\n",
       "      <td>11200.0</td>\n",
       "      <td>0.0</td>\n",
       "      <td>0.0</td>\n",
       "      <td>0.0</td>\n",
       "      <td>0.0</td>\n",
       "      <td>...</td>\n",
       "      <td>3942714.0</td>\n",
       "      <td>0.0</td>\n",
       "      <td>267102.0</td>\n",
       "      <td>0.0</td>\n",
       "      <td>0.0</td>\n",
       "      <td>5634343.0</td>\n",
       "      <td>10623258.0</td>\n",
       "      <td>4.492666</td>\n",
       "      <td>0.000000</td>\n",
       "      <td>0.000000</td>\n",
       "    </tr>\n",
       "    <tr>\n",
       "      <th>ELLIOTT STEVEN</th>\n",
       "      <td>350000.0</td>\n",
       "      <td>0.0</td>\n",
       "      <td>-400729.0</td>\n",
       "      <td>0.0</td>\n",
       "      <td>4890344.0</td>\n",
       "      <td>78552.0</td>\n",
       "      <td>0.0</td>\n",
       "      <td>0.0</td>\n",
       "      <td>0.0</td>\n",
       "      <td>0.0</td>\n",
       "      <td>...</td>\n",
       "      <td>1788391.0</td>\n",
       "      <td>0.0</td>\n",
       "      <td>170941.0</td>\n",
       "      <td>0.0</td>\n",
       "      <td>0.0</td>\n",
       "      <td>211725.0</td>\n",
       "      <td>6678735.0</td>\n",
       "      <td>2.047490</td>\n",
       "      <td>0.000000</td>\n",
       "      <td>0.000000</td>\n",
       "    </tr>\n",
       "    <tr>\n",
       "      <th>CORDES WILLIAM R</th>\n",
       "      <td>0.0</td>\n",
       "      <td>0.0</td>\n",
       "      <td>0.0</td>\n",
       "      <td>0.0</td>\n",
       "      <td>651850.0</td>\n",
       "      <td>0.0</td>\n",
       "      <td>12.0</td>\n",
       "      <td>10.0</td>\n",
       "      <td>0.0</td>\n",
       "      <td>0.0</td>\n",
       "      <td>...</td>\n",
       "      <td>386335.0</td>\n",
       "      <td>0.0</td>\n",
       "      <td>0.0</td>\n",
       "      <td>58.0</td>\n",
       "      <td>764.0</td>\n",
       "      <td>0.0</td>\n",
       "      <td>1038185.0</td>\n",
       "      <td>0.000000</td>\n",
       "      <td>0.833333</td>\n",
       "      <td>0.000000</td>\n",
       "    </tr>\n",
       "    <tr>\n",
       "      <th>HANNON KEVIN P</th>\n",
       "      <td>1500000.0</td>\n",
       "      <td>0.0</td>\n",
       "      <td>-3117011.0</td>\n",
       "      <td>0.0</td>\n",
       "      <td>5538001.0</td>\n",
       "      <td>34039.0</td>\n",
       "      <td>32.0</td>\n",
       "      <td>32.0</td>\n",
       "      <td>21.0</td>\n",
       "      <td>0.0</td>\n",
       "      <td>...</td>\n",
       "      <td>853064.0</td>\n",
       "      <td>0.0</td>\n",
       "      <td>243293.0</td>\n",
       "      <td>1035.0</td>\n",
       "      <td>1045.0</td>\n",
       "      <td>288682.0</td>\n",
       "      <td>6391065.0</td>\n",
       "      <td>6.165405</td>\n",
       "      <td>1.000000</td>\n",
       "      <td>0.020096</td>\n",
       "    </tr>\n",
       "  </tbody>\n",
       "</table>\n",
       "<p>5 rows × 23 columns</p>\n",
       "</div>"
      ],
      "text/plain": [
       "                      bonus  deferral_payments  deferred_income  \\\n",
       "METTS MARK         600000.0                0.0              0.0   \n",
       "BAXTER JOHN C     1200000.0          1295738.0       -1386055.0   \n",
       "ELLIOTT STEVEN     350000.0                0.0        -400729.0   \n",
       "CORDES WILLIAM R        0.0                0.0              0.0   \n",
       "HANNON KEVIN P    1500000.0                0.0       -3117011.0   \n",
       "\n",
       "                  director_fees  exercised_stock_options  expenses  \\\n",
       "METTS MARK                  0.0                      0.0   94299.0   \n",
       "BAXTER JOHN C               0.0                6680544.0   11200.0   \n",
       "ELLIOTT STEVEN              0.0                4890344.0   78552.0   \n",
       "CORDES WILLIAM R            0.0                 651850.0       0.0   \n",
       "HANNON KEVIN P              0.0                5538001.0   34039.0   \n",
       "\n",
       "                  from_messages  from_poi_to_this_person  \\\n",
       "METTS MARK                 29.0                     38.0   \n",
       "BAXTER JOHN C               0.0                      0.0   \n",
       "ELLIOTT STEVEN              0.0                      0.0   \n",
       "CORDES WILLIAM R           12.0                     10.0   \n",
       "HANNON KEVIN P             32.0                     32.0   \n",
       "\n",
       "                  from_this_person_to_poi  loan_advances  \\\n",
       "METTS MARK                            1.0            0.0   \n",
       "BAXTER JOHN C                         0.0            0.0   \n",
       "ELLIOTT STEVEN                        0.0            0.0   \n",
       "CORDES WILLIAM R                      0.0            0.0   \n",
       "HANNON KEVIN P                       21.0            0.0   \n",
       "\n",
       "                           ...            restricted_stock  \\\n",
       "METTS MARK                 ...                    585062.0   \n",
       "BAXTER JOHN C              ...                   3942714.0   \n",
       "ELLIOTT STEVEN             ...                   1788391.0   \n",
       "CORDES WILLIAM R           ...                    386335.0   \n",
       "HANNON KEVIN P             ...                    853064.0   \n",
       "\n",
       "                  restricted_stock_deferred    salary  \\\n",
       "METTS MARK                              0.0  365788.0   \n",
       "BAXTER JOHN C                           0.0  267102.0   \n",
       "ELLIOTT STEVEN                          0.0  170941.0   \n",
       "CORDES WILLIAM R                        0.0       0.0   \n",
       "HANNON KEVIN P                          0.0  243293.0   \n",
       "\n",
       "                  shared_receipt_with_poi  to_messages  total_payments  \\\n",
       "METTS MARK                          702.0        807.0       1061827.0   \n",
       "BAXTER JOHN C                         0.0          0.0       5634343.0   \n",
       "ELLIOTT STEVEN                        0.0          0.0        211725.0   \n",
       "CORDES WILLIAM R                     58.0        764.0             0.0   \n",
       "HANNON KEVIN P                     1035.0       1045.0        288682.0   \n",
       "\n",
       "                  total_stock_value  bonus_salary_ratio  \\\n",
       "METTS MARK                 585062.0            1.640294   \n",
       "BAXTER JOHN C            10623258.0            4.492666   \n",
       "ELLIOTT STEVEN            6678735.0            2.047490   \n",
       "CORDES WILLIAM R          1038185.0            0.000000   \n",
       "HANNON KEVIN P            6391065.0            6.165405   \n",
       "\n",
       "                  proportion_mail_from_poi  proportion_mail_to_poi  \n",
       "METTS MARK                        1.310345                0.001239  \n",
       "BAXTER JOHN C                     0.000000                0.000000  \n",
       "ELLIOTT STEVEN                    0.000000                0.000000  \n",
       "CORDES WILLIAM R                  0.833333                0.000000  \n",
       "HANNON KEVIN P                    1.000000                0.020096  \n",
       "\n",
       "[5 rows x 23 columns]"
      ]
     },
     "execution_count": 34,
     "metadata": {},
     "output_type": "execute_result"
    }
   ],
   "source": [
    "df_copy.head()"
   ]
  },
  {
   "cell_type": "code",
   "execution_count": 35,
   "metadata": {},
   "outputs": [
    {
     "name": "stdout",
     "output_type": "stream",
     "text": [
      "Total number of datapoints: 141\n",
      "Total number of features: 23\n"
     ]
    }
   ],
   "source": [
    "# Convertendo o dataframe modificado para um dicionário\n",
    "data_dict = df_copy.to_dict('index')\n",
    "print(\"Total number of datapoints:\",len(data_dict))\n",
    "print(\"Total number of features:\",len(data_dict['ELLIOTT STEVEN']))"
   ]
  },
  {
   "cell_type": "code",
   "execution_count": 36,
   "metadata": {},
   "outputs": [],
   "source": [
    "### Store to my_dataset for easy export below.\n",
    "my_dataset = data_dict"
   ]
  },
  {
   "cell_type": "code",
   "execution_count": 37,
   "metadata": {},
   "outputs": [],
   "source": [
    "# features_list atualizado\n",
    "features_list = ['poi','salary', 'bonus', 'deferral_payments', 'deferred_income', 'director_fees',\n",
    "                 'exercised_stock_options', 'expenses', 'from_messages', 'from_poi_to_this_person',\n",
    "\t\t\t\t 'from_this_person_to_poi', 'loan_advances', 'long_term_incentive', 'other',\n",
    "\t\t\t\t 'restricted_stock', 'restricted_stock_deferred','shared_receipt_with_poi',\n",
    "                 'to_messages', 'total_payments', 'total_stock_value', 'bonus_salary_ratio',\n",
    "                 'proportion_mail_from_poi', 'proportion_mail_to_poi']"
   ]
  },
  {
   "cell_type": "code",
   "execution_count": 38,
   "metadata": {},
   "outputs": [],
   "source": [
    "### Extract features and labels from dataset for local testing\n",
    "data = featureFormat(my_dataset, features_list, sort_keys = True)\n",
    "labels, features = targetFeatureSplit(data)"
   ]
  },
  {
   "cell_type": "markdown",
   "metadata": {},
   "source": [
    "### Task 4: Try a varity of classifiers ###"
   ]
  },
  {
   "cell_type": "markdown",
   "metadata": {},
   "source": [
    "Os algoritmos escolhidos são:\n",
    "- Decision Tree\n",
    "- SVM\n",
    "- GaussianNB\n",
    "- Random Forest\n",
    "- AdaBoost"
   ]
  },
  {
   "cell_type": "code",
   "execution_count": 39,
   "metadata": {},
   "outputs": [],
   "source": [
    "### Split data into training and testing datasets\n",
    "features_train, features_test, labels_train, labels_test = \\\n",
    "    train_test_split(features, labels, test_size=0.3, random_state=42)"
   ]
  },
  {
   "cell_type": "code",
   "execution_count": 40,
   "metadata": {},
   "outputs": [
    {
     "name": "stdout",
     "output_type": "stream",
     "text": [
      "Tempo de treinamento: 0.003002166748046875 segundos\n",
      "Tempo de previsão: 0.0009996891021728516 segundos\n",
      "\n",
      "              precision    recall  f1-score   support\n",
      "\n",
      "         0.0       0.87      0.94      0.91        36\n",
      "         1.0       0.33      0.17      0.22         6\n",
      "\n",
      "   micro avg       0.83      0.83      0.83        42\n",
      "   macro avg       0.60      0.56      0.56        42\n",
      "weighted avg       0.79      0.83      0.81        42\n",
      "\n"
     ]
    }
   ],
   "source": [
    "# Decision Tree\n",
    "tree_clf = DecisionTreeClassifier(random_state=42)\n",
    "start = time()\n",
    "tree_clf.fit(features_train, labels_train)\n",
    "end = time()\n",
    "tree_fit_time = end - start\n",
    "print(\"Tempo de treinamento:\", tree_fit_time, \"segundos\")\n",
    "start = time()\n",
    "pred = tree_clf.predict(features_test)\n",
    "end = time()\n",
    "tree_pred_time = end - start\n",
    "print(\"Tempo de previsão:\", tree_pred_time, \"segundos\")\n",
    "print()\n",
    "report = classification_report(labels_test, pred)\n",
    "print(report)"
   ]
  },
  {
   "cell_type": "code",
   "execution_count": 41,
   "metadata": {},
   "outputs": [
    {
     "name": "stdout",
     "output_type": "stream",
     "text": [
      "Tempo de treinamento: 0.005007505416870117 segundos\n",
      "Tempo de previsão: 0.001998424530029297 segundos\n",
      "\n",
      "              precision    recall  f1-score   support\n",
      "\n",
      "         0.0       0.86      1.00      0.92        36\n",
      "         1.0       0.00      0.00      0.00         6\n",
      "\n",
      "   micro avg       0.86      0.86      0.86        42\n",
      "   macro avg       0.43      0.50      0.46        42\n",
      "weighted avg       0.73      0.86      0.79        42\n",
      "\n"
     ]
    },
    {
     "name": "stderr",
     "output_type": "stream",
     "text": [
      "c:\\python37\\lib\\site-packages\\sklearn\\metrics\\classification.py:1143: UndefinedMetricWarning: Precision and F-score are ill-defined and being set to 0.0 in labels with no predicted samples.\n",
      "  'precision', 'predicted', average, warn_for)\n"
     ]
    }
   ],
   "source": [
    "#SVM\n",
    "svm_clf = SVC(gamma='auto', random_state=42)\n",
    "start = time()\n",
    "svm_clf.fit(features_train, labels_train)\n",
    "end = time()\n",
    "svm_fit_time = end - start\n",
    "print(\"Tempo de treinamento:\", svm_fit_time, \"segundos\")\n",
    "start = time()\n",
    "pred = svm_clf.predict(features_test)\n",
    "end = time()\n",
    "svm_pred_time = end - start\n",
    "print(\"Tempo de previsão:\", svm_pred_time, \"segundos\")\n",
    "print()\n",
    "report = classification_report(labels_test, pred)\n",
    "print(report)"
   ]
  },
  {
   "cell_type": "code",
   "execution_count": 42,
   "metadata": {},
   "outputs": [
    {
     "name": "stdout",
     "output_type": "stream",
     "text": [
      "Tempo de treinamento: 0.0030035972595214844 segundos\n",
      "Tempo de previsão: 0.0010008811950683594 segundos\n",
      "\n",
      "              precision    recall  f1-score   support\n",
      "\n",
      "         0.0       0.92      0.97      0.95        36\n",
      "         1.0       0.75      0.50      0.60         6\n",
      "\n",
      "   micro avg       0.90      0.90      0.90        42\n",
      "   macro avg       0.84      0.74      0.77        42\n",
      "weighted avg       0.90      0.90      0.90        42\n",
      "\n"
     ]
    }
   ],
   "source": [
    "#GaussianNB\n",
    "gaussian_clf = GaussianNB()\n",
    "start = time()\n",
    "gaussian_clf.fit(features_train, labels_train)\n",
    "end = time()\n",
    "gaussian_fit_time = end - start\n",
    "print(\"Tempo de treinamento:\", gaussian_fit_time, \"segundos\")\n",
    "start = time()\n",
    "pred = gaussian_clf.predict(features_test)\n",
    "end = time()\n",
    "gaussian_pred_time = end - start\n",
    "print(\"Tempo de previsão:\", gaussian_pred_time, \"segundos\")\n",
    "print()\n",
    "report = classification_report(labels_test, pred)\n",
    "print(report)"
   ]
  },
  {
   "cell_type": "code",
   "execution_count": 43,
   "metadata": {},
   "outputs": [
    {
     "name": "stdout",
     "output_type": "stream",
     "text": [
      "Tempo de treinamento: 0.13008689880371094 segundos\n",
      "Tempo de previsão: 0.0120086669921875 segundos\n",
      "\n",
      "              precision    recall  f1-score   support\n",
      "\n",
      "         0.0       0.86      1.00      0.92        36\n",
      "         1.0       0.00      0.00      0.00         6\n",
      "\n",
      "   micro avg       0.86      0.86      0.86        42\n",
      "   macro avg       0.43      0.50      0.46        42\n",
      "weighted avg       0.73      0.86      0.79        42\n",
      "\n"
     ]
    },
    {
     "name": "stderr",
     "output_type": "stream",
     "text": [
      "c:\\python37\\lib\\site-packages\\sklearn\\metrics\\classification.py:1143: UndefinedMetricWarning: Precision and F-score are ill-defined and being set to 0.0 in labels with no predicted samples.\n",
      "  'precision', 'predicted', average, warn_for)\n"
     ]
    }
   ],
   "source": [
    "#Random Forest\n",
    "rf_clf = RandomForestClassifier(n_estimators=100, random_state=42)\n",
    "start = time()\n",
    "rf_clf.fit(features_train, labels_train)\n",
    "end = time()\n",
    "rf_fit_time = end - start\n",
    "print(\"Tempo de treinamento:\", rf_fit_time, \"segundos\")\n",
    "start = time()\n",
    "pred = rf_clf.predict(features_test)\n",
    "end = time()\n",
    "rf_pred_time = end - start\n",
    "print(\"Tempo de previsão:\", rf_pred_time, \"segundos\")\n",
    "print()\n",
    "report = classification_report(labels_test, pred)\n",
    "print(report)"
   ]
  },
  {
   "cell_type": "code",
   "execution_count": 44,
   "metadata": {},
   "outputs": [
    {
     "name": "stdout",
     "output_type": "stream",
     "text": [
      "Tempo de treinamento: 0.09606647491455078 segundos\n",
      "Tempo de previsão: 0.010005474090576172 segundos\n",
      "\n",
      "              precision    recall  f1-score   support\n",
      "\n",
      "         0.0       0.88      0.97      0.92        36\n",
      "         1.0       0.50      0.17      0.25         6\n",
      "\n",
      "   micro avg       0.86      0.86      0.86        42\n",
      "   macro avg       0.69      0.57      0.59        42\n",
      "weighted avg       0.82      0.86      0.83        42\n",
      "\n"
     ]
    }
   ],
   "source": [
    "#AdaBoost\n",
    "ada_clf = AdaBoostClassifier(random_state=42)\n",
    "start = time()\n",
    "ada_clf.fit(features_train, labels_train)\n",
    "end = time()\n",
    "ada_fit_time = end - start\n",
    "print(\"Tempo de treinamento:\", ada_fit_time, \"segundos\")\n",
    "start = time()\n",
    "pred = ada_clf.predict(features_test)\n",
    "end = time()\n",
    "ada_pred_time = end - start\n",
    "print(\"Tempo de previsão:\", ada_pred_time, \"segundos\")\n",
    "print()\n",
    "report = classification_report(labels_test, pred)\n",
    "print(report)"
   ]
  },
  {
   "cell_type": "markdown",
   "metadata": {},
   "source": [
    "O algoritmo GaussianNB, dentre os algoritmos testados, obteve o melhor desempenho (maior f1-score)."
   ]
  },
  {
   "cell_type": "markdown",
   "metadata": {},
   "source": [
    "### Task 5: Tune your classifier ###"
   ]
  },
  {
   "cell_type": "markdown",
   "metadata": {},
   "source": [
    "Ajustar o algoritmo para aprendizado de máquina significa escolher os melhores valores de parâmetro para o algoritmo que fornece um desempenho otimizado.<br>\n",
    "Se não for ajustado corretamente, o limite de decisão feito usando o algoritmo e os dados do conjunto de treinamento não será capaz de fornecer corretamente a melhor previsão para os dados do conjunto de testes, uma vez que as chances de ter alta polarização e alta variância ocorrem.<br>\n",
    "<br>\n",
    "GridSearch é uma abordagem para o ajuste de parâmetros que irá construir e avaliar metodicamente um modelo para cada combinação de parâmetros de algoritmo especificados em uma grade."
   ]
  },
  {
   "cell_type": "code",
   "execution_count": 45,
   "metadata": {},
   "outputs": [
    {
     "name": "stdout",
     "output_type": "stream",
     "text": [
      "Tempo de treinamento:  8.92600393295288 segundos\n",
      "Tempo de previsão:  0.0 segundos\n",
      "\n",
      "              precision    recall  f1-score   support\n",
      "\n",
      "         0.0       0.88      1.00      0.94        36\n",
      "         1.0       1.00      0.17      0.29         6\n",
      "\n",
      "   micro avg       0.88      0.88      0.88        42\n",
      "   macro avg       0.94      0.58      0.61        42\n",
      "weighted avg       0.90      0.88      0.84        42\n",
      "\n",
      "\n",
      "Descrição da melhor Árvore de Decisão:\n",
      "\n",
      "DecisionTreeClassifier(class_weight=None, criterion='gini', max_depth=3,\n",
      "            max_features=None, max_leaf_nodes=None,\n",
      "            min_impurity_decrease=0.0, min_impurity_split=None,\n",
      "            min_samples_leaf=1, min_samples_split=2,\n",
      "            min_weight_fraction_leaf=0.0, presort=False, random_state=42,\n",
      "            splitter='best')\n"
     ]
    },
    {
     "name": "stderr",
     "output_type": "stream",
     "text": [
      "c:\\python37\\lib\\site-packages\\sklearn\\model_selection\\_search.py:841: DeprecationWarning: The default of the `iid` parameter will change from True to False in version 0.22 and will be removed in 0.24. This will change numeric results when test-set sizes are unequal.\n",
      "  DeprecationWarning)\n"
     ]
    }
   ],
   "source": [
    "#Decision Tree\n",
    "parameters = dict(min_samples_split = range(2,50), max_depth = range(2,20))\n",
    "tree_gs = GridSearchCV(tree_clf, parameters, cv=5)\n",
    "start = time()\n",
    "tree_gs.fit(features_train, labels_train)\n",
    "end = time()\n",
    "tree_gs_fit_time = end - start\n",
    "print(\"Tempo de treinamento: \", tree_gs_fit_time, \"segundos\")\n",
    "start = time()\n",
    "pred = tree_gs.predict(features_test)\n",
    "end = time()\n",
    "tree_gs_pred_time = end - start\n",
    "print(\"Tempo de previsão: \", tree_gs_pred_time, \"segundos\")\n",
    "print()\n",
    "tree_gs_clf = tree_gs.best_estimator_\n",
    "report = classification_report(labels_test, pred)\n",
    "print(report)\n",
    "print()\n",
    "print(\"Descrição da melhor Árvore de Decisão:\")\n",
    "print()\n",
    "print(tree_gs_clf)"
   ]
  },
  {
   "cell_type": "code",
   "execution_count": 46,
   "metadata": {},
   "outputs": [
    {
     "name": "stdout",
     "output_type": "stream",
     "text": [
      "Tempo de treinamento:  0.39426660537719727 segundos\n",
      "Tempo de previsão:  0.0 segundos\n",
      "\n",
      "              precision    recall  f1-score   support\n",
      "\n",
      "         0.0       0.86      1.00      0.92        36\n",
      "         1.0       0.00      0.00      0.00         6\n",
      "\n",
      "   micro avg       0.86      0.86      0.86        42\n",
      "   macro avg       0.43      0.50      0.46        42\n",
      "weighted avg       0.73      0.86      0.79        42\n",
      "\n",
      "\n",
      "Descrição da melhor Máquina de Vetores de Suporte:\n",
      "\n",
      "Pipeline(memory=None,\n",
      "     steps=[('reduce_dim', PCA(copy=True, iterated_power='auto', n_components=None, random_state=None,\n",
      "  svd_solver='auto', tol=0.0, whiten=False)), ('clf', SVC(C=0.001, cache_size=200, class_weight=None, coef0=0.0,\n",
      "  decision_function_shape='ovr', degree=3, gamma=1.0, kernel='rbf',\n",
      "  max_iter=-1, probability=False, random_state=42, shrinking=True,\n",
      "  tol=0.001, verbose=False))])\n"
     ]
    },
    {
     "name": "stderr",
     "output_type": "stream",
     "text": [
      "c:\\python37\\lib\\site-packages\\sklearn\\model_selection\\_search.py:841: DeprecationWarning: The default of the `iid` parameter will change from True to False in version 0.22 and will be removed in 0.24. This will change numeric results when test-set sizes are unequal.\n",
      "  DeprecationWarning)\n",
      "c:\\python37\\lib\\site-packages\\sklearn\\metrics\\classification.py:1143: UndefinedMetricWarning: Precision and F-score are ill-defined and being set to 0.0 in labels with no predicted samples.\n",
      "  'precision', 'predicted', average, warn_for)\n"
     ]
    }
   ],
   "source": [
    "#SVM\n",
    "estimators = [('reduce_dim', PCA()), ('clf', svm_clf)]\n",
    "pipe = Pipeline(estimators)\n",
    "parameters = {'clf__C':[0.001,0.1,10,100,1000], 'clf__gamma':[1.0,0.1,0.01]}\n",
    "svm_gs = GridSearchCV(pipe, parameters, cv=5)\n",
    "start = time()\n",
    "svm_gs.fit(features_train, labels_train)\n",
    "end = time()\n",
    "svm_gs_fit_time = end - start\n",
    "print(\"Tempo de treinamento: \", svm_gs_fit_time, \"segundos\")\n",
    "start = time()\n",
    "pred = svm_gs.predict(features_test)\n",
    "end = time()\n",
    "svm_gs_pred_time = end - start\n",
    "print(\"Tempo de previsão: \", svm_gs_pred_time, \"segundos\")\n",
    "print()\n",
    "svm_gs_clf = svm_gs.best_estimator_\n",
    "report = classification_report(labels_test, pred)\n",
    "print(report)\n",
    "print()\n",
    "print(\"Descrição da melhor Máquina de Vetores de Suporte:\")\n",
    "print()\n",
    "print(svm_gs_clf)"
   ]
  },
  {
   "cell_type": "code",
   "execution_count": 47,
   "metadata": {},
   "outputs": [
    {
     "name": "stderr",
     "output_type": "stream",
     "text": [
      "c:\\python37\\lib\\site-packages\\sklearn\\feature_selection\\univariate_selection.py:114: UserWarning: Features [10] are constant.\n",
      "  UserWarning)\n",
      "c:\\python37\\lib\\site-packages\\sklearn\\feature_selection\\univariate_selection.py:115: RuntimeWarning: invalid value encountered in true_divide\n",
      "  f = msb / msw\n",
      "c:\\python37\\lib\\site-packages\\sklearn\\feature_selection\\univariate_selection.py:114: UserWarning: Features [10] are constant.\n",
      "  UserWarning)\n",
      "c:\\python37\\lib\\site-packages\\sklearn\\feature_selection\\univariate_selection.py:115: RuntimeWarning: invalid value encountered in true_divide\n",
      "  f = msb / msw\n",
      "c:\\python37\\lib\\site-packages\\sklearn\\feature_selection\\univariate_selection.py:114: UserWarning: Features [10] are constant.\n",
      "  UserWarning)\n",
      "c:\\python37\\lib\\site-packages\\sklearn\\feature_selection\\univariate_selection.py:115: RuntimeWarning: invalid value encountered in true_divide\n",
      "  f = msb / msw\n",
      "c:\\python37\\lib\\site-packages\\sklearn\\feature_selection\\univariate_selection.py:114: UserWarning: Features [10] are constant.\n",
      "  UserWarning)\n",
      "c:\\python37\\lib\\site-packages\\sklearn\\feature_selection\\univariate_selection.py:115: RuntimeWarning: invalid value encountered in true_divide\n",
      "  f = msb / msw\n",
      "c:\\python37\\lib\\site-packages\\sklearn\\feature_selection\\univariate_selection.py:114: UserWarning: Features [10] are constant.\n",
      "  UserWarning)\n",
      "c:\\python37\\lib\\site-packages\\sklearn\\feature_selection\\univariate_selection.py:115: RuntimeWarning: invalid value encountered in true_divide\n",
      "  f = msb / msw\n",
      "c:\\python37\\lib\\site-packages\\sklearn\\feature_selection\\univariate_selection.py:114: UserWarning: Features [10] are constant.\n",
      "  UserWarning)\n",
      "c:\\python37\\lib\\site-packages\\sklearn\\feature_selection\\univariate_selection.py:115: RuntimeWarning: invalid value encountered in true_divide\n",
      "  f = msb / msw\n",
      "c:\\python37\\lib\\site-packages\\sklearn\\feature_selection\\univariate_selection.py:114: UserWarning: Features [10] are constant.\n",
      "  UserWarning)\n",
      "c:\\python37\\lib\\site-packages\\sklearn\\feature_selection\\univariate_selection.py:115: RuntimeWarning: invalid value encountered in true_divide\n",
      "  f = msb / msw\n",
      "c:\\python37\\lib\\site-packages\\sklearn\\feature_selection\\univariate_selection.py:114: UserWarning: Features [10] are constant.\n",
      "  UserWarning)\n",
      "c:\\python37\\lib\\site-packages\\sklearn\\feature_selection\\univariate_selection.py:115: RuntimeWarning: invalid value encountered in true_divide\n",
      "  f = msb / msw\n",
      "c:\\python37\\lib\\site-packages\\sklearn\\metrics\\classification.py:1143: UndefinedMetricWarning: F-score is ill-defined and being set to 0.0 due to no predicted samples.\n",
      "  'precision', 'predicted', average, warn_for)\n",
      "c:\\python37\\lib\\site-packages\\sklearn\\feature_selection\\univariate_selection.py:114: UserWarning: Features [10] are constant.\n",
      "  UserWarning)\n",
      "c:\\python37\\lib\\site-packages\\sklearn\\feature_selection\\univariate_selection.py:115: RuntimeWarning: invalid value encountered in true_divide\n",
      "  f = msb / msw\n",
      "c:\\python37\\lib\\site-packages\\sklearn\\metrics\\classification.py:1143: UndefinedMetricWarning: F-score is ill-defined and being set to 0.0 due to no predicted samples.\n",
      "  'precision', 'predicted', average, warn_for)\n",
      "c:\\python37\\lib\\site-packages\\sklearn\\feature_selection\\univariate_selection.py:114: UserWarning: Features [10] are constant.\n",
      "  UserWarning)\n",
      "c:\\python37\\lib\\site-packages\\sklearn\\feature_selection\\univariate_selection.py:115: RuntimeWarning: invalid value encountered in true_divide\n",
      "  f = msb / msw\n",
      "c:\\python37\\lib\\site-packages\\sklearn\\metrics\\classification.py:1143: UndefinedMetricWarning: F-score is ill-defined and being set to 0.0 due to no predicted samples.\n",
      "  'precision', 'predicted', average, warn_for)\n",
      "c:\\python37\\lib\\site-packages\\sklearn\\feature_selection\\univariate_selection.py:114: UserWarning: Features [10] are constant.\n",
      "  UserWarning)\n",
      "c:\\python37\\lib\\site-packages\\sklearn\\feature_selection\\univariate_selection.py:115: RuntimeWarning: invalid value encountered in true_divide\n",
      "  f = msb / msw\n",
      "c:\\python37\\lib\\site-packages\\sklearn\\metrics\\classification.py:1143: UndefinedMetricWarning: F-score is ill-defined and being set to 0.0 due to no predicted samples.\n",
      "  'precision', 'predicted', average, warn_for)\n",
      "c:\\python37\\lib\\site-packages\\sklearn\\feature_selection\\univariate_selection.py:114: UserWarning: Features [10] are constant.\n",
      "  UserWarning)\n",
      "c:\\python37\\lib\\site-packages\\sklearn\\feature_selection\\univariate_selection.py:115: RuntimeWarning: invalid value encountered in true_divide\n",
      "  f = msb / msw\n",
      "c:\\python37\\lib\\site-packages\\sklearn\\metrics\\classification.py:1143: UndefinedMetricWarning: F-score is ill-defined and being set to 0.0 due to no predicted samples.\n",
      "  'precision', 'predicted', average, warn_for)\n",
      "c:\\python37\\lib\\site-packages\\sklearn\\feature_selection\\univariate_selection.py:114: UserWarning: Features [10] are constant.\n",
      "  UserWarning)\n",
      "c:\\python37\\lib\\site-packages\\sklearn\\feature_selection\\univariate_selection.py:115: RuntimeWarning: invalid value encountered in true_divide\n",
      "  f = msb / msw\n",
      "c:\\python37\\lib\\site-packages\\sklearn\\feature_selection\\univariate_selection.py:114: UserWarning: Features [10] are constant.\n",
      "  UserWarning)\n",
      "c:\\python37\\lib\\site-packages\\sklearn\\feature_selection\\univariate_selection.py:115: RuntimeWarning: invalid value encountered in true_divide\n",
      "  f = msb / msw\n",
      "c:\\python37\\lib\\site-packages\\sklearn\\feature_selection\\univariate_selection.py:114: UserWarning: Features [10] are constant.\n",
      "  UserWarning)\n",
      "c:\\python37\\lib\\site-packages\\sklearn\\feature_selection\\univariate_selection.py:115: RuntimeWarning: invalid value encountered in true_divide\n",
      "  f = msb / msw\n",
      "c:\\python37\\lib\\site-packages\\sklearn\\metrics\\classification.py:1143: UndefinedMetricWarning: F-score is ill-defined and being set to 0.0 due to no predicted samples.\n",
      "  'precision', 'predicted', average, warn_for)\n"
     ]
    },
    {
     "name": "stdout",
     "output_type": "stream",
     "text": [
      "Tempo de Treinamento Grid: 0.5063381195068359 segundos\n",
      "Tempo de previsão do Melhor GaussianNB: 0.0 segundos\n",
      "              precision    recall  f1-score   support\n",
      "\n",
      "         0.0       0.92      0.92      0.92        36\n",
      "         1.0       0.50      0.50      0.50         6\n",
      "\n",
      "   micro avg       0.86      0.86      0.86        42\n",
      "   macro avg       0.71      0.71      0.71        42\n",
      "weighted avg       0.86      0.86      0.86        42\n",
      "\n"
     ]
    },
    {
     "name": "stderr",
     "output_type": "stream",
     "text": [
      "c:\\python37\\lib\\site-packages\\sklearn\\feature_selection\\univariate_selection.py:114: UserWarning: Features [10] are constant.\n",
      "  UserWarning)\n",
      "c:\\python37\\lib\\site-packages\\sklearn\\feature_selection\\univariate_selection.py:115: RuntimeWarning: invalid value encountered in true_divide\n",
      "  f = msb / msw\n",
      "c:\\python37\\lib\\site-packages\\sklearn\\metrics\\classification.py:1143: UndefinedMetricWarning: F-score is ill-defined and being set to 0.0 due to no predicted samples.\n",
      "  'precision', 'predicted', average, warn_for)\n",
      "c:\\python37\\lib\\site-packages\\sklearn\\feature_selection\\univariate_selection.py:114: UserWarning: Features [10] are constant.\n",
      "  UserWarning)\n",
      "c:\\python37\\lib\\site-packages\\sklearn\\feature_selection\\univariate_selection.py:115: RuntimeWarning: invalid value encountered in true_divide\n",
      "  f = msb / msw\n",
      "c:\\python37\\lib\\site-packages\\sklearn\\model_selection\\_search.py:841: DeprecationWarning: The default of the `iid` parameter will change from True to False in version 0.22 and will be removed in 0.24. This will change numeric results when test-set sizes are unequal.\n",
      "  DeprecationWarning)\n"
     ]
    }
   ],
   "source": [
    "# GaussianNB\n",
    "pipeline = Pipeline(steps = [(\"SKB\", SelectKBest()), (\"clf\",gaussian_clf)])\n",
    "param_grid = {\"SKB__k\":[3,4,5,6,7,8,9,10,11,12,13,14,15,16,17,18,19]}\n",
    "\n",
    "grid = GridSearchCV(pipeline, param_grid, verbose = 0, cv = 5, scoring = 'f1')\n",
    "\n",
    "start = time()\n",
    "grid.fit(features, labels)\n",
    "end = time()\n",
    "grid_fit_time = end - start\n",
    "print(\"Tempo de Treinamento Grid:\", grid_fit_time, \"segundos\")\n",
    "\n",
    "# best algorithm\n",
    "gaussian_gs_clf = grid.best_estimator_\n",
    "\n",
    "# refit the best algorithm:\n",
    "gaussian_gs_clf.fit(features_train, labels_train)\n",
    "\n",
    "start = time()\n",
    "pred = gaussian_gs_clf.predict(features_test)\n",
    "end = time()\n",
    "gaussian_gs_pred_time = end - start\n",
    "print(\"Tempo de previsão do Melhor GaussianNB:\", gaussian_gs_pred_time, \"segundos\")\n",
    "\n",
    "report = classification_report(labels_test, pred)\n",
    "print(report)"
   ]
  },
  {
   "cell_type": "code",
   "execution_count": 48,
   "metadata": {},
   "outputs": [
    {
     "name": "stdout",
     "output_type": "stream",
     "text": [
      "Tempo de treinamento:  2.7208309173583984 segundos\n",
      "Tempo de previsão:  0.004001617431640625 segundos\n",
      "\n",
      "              precision    recall  f1-score   support\n",
      "\n",
      "         0.0       0.88      1.00      0.94        36\n",
      "         1.0       1.00      0.17      0.29         6\n",
      "\n",
      "   micro avg       0.88      0.88      0.88        42\n",
      "   macro avg       0.94      0.58      0.61        42\n",
      "weighted avg       0.90      0.88      0.84        42\n",
      "\n",
      "\n",
      "Descrição da melhor Floresta Aleatória:\n",
      "\n",
      "RandomForestClassifier(bootstrap=True, class_weight=None, criterion='gini',\n",
      "            max_depth=None, max_features='auto', max_leaf_nodes=None,\n",
      "            min_impurity_decrease=0.0, min_impurity_split=None,\n",
      "            min_samples_leaf=1, min_samples_split=2,\n",
      "            min_weight_fraction_leaf=0.0, n_estimators=32, n_jobs=None,\n",
      "            oob_score=False, random_state=42, verbose=0, warm_start=False)\n"
     ]
    },
    {
     "name": "stderr",
     "output_type": "stream",
     "text": [
      "c:\\python37\\lib\\site-packages\\sklearn\\model_selection\\_search.py:841: DeprecationWarning: The default of the `iid` parameter will change from True to False in version 0.22 and will be removed in 0.24. This will change numeric results when test-set sizes are unequal.\n",
      "  DeprecationWarning)\n"
     ]
    }
   ],
   "source": [
    "#Random Forest\n",
    "parameters = dict(n_estimators = [1, 2, 4, 8, 16, 32, 64, 100, 200])\n",
    "rf_gs = GridSearchCV(rf_clf, parameters, cv=5)\n",
    "start = time()\n",
    "rf_gs.fit(features_train, labels_train)\n",
    "end = time()\n",
    "rf_gs_fit_time = end - start\n",
    "print(\"Tempo de treinamento: \", rf_gs_fit_time, \"segundos\")\n",
    "start = time()\n",
    "pred = rf_gs.predict(features_test)\n",
    "end = time()\n",
    "rf_gs_pred_time = end - start\n",
    "print(\"Tempo de previsão: \", rf_gs_pred_time, \"segundos\")\n",
    "print()\n",
    "rf_gs_clf = rf_gs.best_estimator_\n",
    "report = classification_report(labels_test, pred)\n",
    "print(report)\n",
    "print()\n",
    "print(\"Descrição da melhor Floresta Aleatória:\")\n",
    "print()\n",
    "print(rf_gs_clf)"
   ]
  },
  {
   "cell_type": "code",
   "execution_count": 49,
   "metadata": {},
   "outputs": [
    {
     "name": "stderr",
     "output_type": "stream",
     "text": [
      "c:\\python37\\lib\\site-packages\\sklearn\\model_selection\\_search.py:841: DeprecationWarning: The default of the `iid` parameter will change from True to False in version 0.22 and will be removed in 0.24. This will change numeric results when test-set sizes are unequal.\n",
      "  DeprecationWarning)\n"
     ]
    },
    {
     "name": "stdout",
     "output_type": "stream",
     "text": [
      "Tempo de treinamento:  17.49677085876465 segundos\n",
      "Tempo de previsão:  0.06604385375976562 segundos\n",
      "\n",
      "              precision    recall  f1-score   support\n",
      "\n",
      "         0.0       0.85      0.97      0.91        36\n",
      "         1.0       0.00      0.00      0.00         6\n",
      "\n",
      "   micro avg       0.83      0.83      0.83        42\n",
      "   macro avg       0.43      0.49      0.45        42\n",
      "weighted avg       0.73      0.83      0.78        42\n",
      "\n",
      "\n",
      "Descrição da melhor Floresta Aleatória:\n",
      "\n",
      "AdaBoostClassifier(algorithm='SAMME.R', base_estimator=None, learning_rate=1,\n",
      "          n_estimators=400, random_state=42)\n"
     ]
    }
   ],
   "source": [
    "# AdaBoost\n",
    "\n",
    "parameters = dict(n_estimators = [50, 100, 200, 400],\n",
    "                  learning_rate = [0.01, 0.1, 1])\n",
    "ada_gs = GridSearchCV(ada_clf, parameters, cv=5)\n",
    "start = time()\n",
    "ada_gs.fit(features_train, labels_train)\n",
    "end = time()\n",
    "ada_gs_fit_time = end - start\n",
    "print(\"Tempo de treinamento: \", ada_gs_fit_time, \"segundos\")\n",
    "start = time()\n",
    "pred = ada_gs.predict(features_test)\n",
    "end = time()\n",
    "ada_gs_pred_time = end - start\n",
    "print(\"Tempo de previsão: \", ada_gs_pred_time, \"segundos\")\n",
    "print()\n",
    "ada_gs_clf = ada_gs.best_estimator_\n",
    "report = classification_report(labels_test, pred)\n",
    "print(report)\n",
    "print()\n",
    "print(\"Descrição da melhor Floresta Aleatória:\")\n",
    "print()\n",
    "print(ada_gs_clf)"
   ]
  },
  {
   "cell_type": "markdown",
   "metadata": {},
   "source": [
    "Dentre todos os algoritmos, GaussianNB se mostrou o mais eficiente para usarmos.<br>\n",
    "Os valores da precisão (precision), recall e f1-score - além do tempo de treinamento e previsão - se mostraram mais eficientes em comparação aos outros algoritmos usados."
   ]
  },
  {
   "cell_type": "markdown",
   "metadata": {},
   "source": [
    "### Task 6: Dump your classifier, dataset, and features_list ###"
   ]
  },
  {
   "cell_type": "code",
   "execution_count": 50,
   "metadata": {},
   "outputs": [],
   "source": [
    "clf = gaussian_gs_clf\n",
    "dump_classifier_and_data(clf, my_dataset, features_list)"
   ]
  },
  {
   "cell_type": "markdown",
   "metadata": {},
   "source": [
    "### Validação ###"
   ]
  },
  {
   "cell_type": "markdown",
   "metadata": {},
   "source": [
    "Validação de modelo é definida como o processo em que um modelo treinado é avaliado com um conjunto de dados de teste.<br>\n",
    "O conjunto de dados de teste é uma parte separada do mesmo conjunto de dados do qual o conjunto de treinamento é derivado.<br>\n",
    "O principal objetivo do uso do conjunto de dados de teste é testar a capacidade de generalização de um modelo treinado.<br>\n",
    "A validação do modelo é realizada após o treinamento do modelo.<br>\n",
    "<br>\n",
    "Treinar o modelo de previsão e testá-lo no mesmo conjunto de dados usado para teste é um erro clássico.<br>\n",
    "Um modelo que apenas repetiria os rótulos das amostras que acabou de ver teria uma pontuação perfeita, mas não poderia prever nada de útil em dados ainda não vistos. Isso é chamado 'overfitting'.<br>\n",
    "Para evitá-lo é comum ao realizar um experimento de aprendizado de máquina (supervisionado), reter parte dos dados disponíveis como um conjunto de testes.<br>\n",
    "<br>\n",
    "Neste projeto para validação, o StratifiedShuffleSplit é usado porque o conjunto de dados usado é muito pequeno.<br>\n",
    "Este método faz uma \"Validação cruzada de permutação aleatória\".<br>\n",
    "\n",
    "'StratifiedShuffleSplit' é usado quando há poucas observações em nossos dados que estamos tentando prever (como é o nosso caso).<br>\n",
    "Em vez de especificar um teste explícito e a divisão de dados de treinamento (que é fixa), aleatoriamente \"misturamos\" nossos dados, criando dados de teste e treinamento. A divisão aleatória estratificada também é usada para lidar com desequilíbrios de classe nos dados. Isso é muito importante, especialmente porque há pouquíssimos POIs nos dados.<br>\n",
    "<br>\n",
    "'StratifiedShuffleSplit' irá criar subconjuntos de trem / validação (conforme o código acima, ele irá criar 100 deles). Internamente, 'GridSearchCV' estimará os modelos usando os 100 subconjuntos de trem e validará o modelo no subconjunto 100 de validação. Assim, o uso do conjunto de dados completo permitirá que os subconjuntos de treinamento e validação incluam o maior número de POIs possível."
   ]
  },
  {
   "cell_type": "markdown",
   "metadata": {},
   "source": [
    "### Evaluation Metrics ###"
   ]
  },
  {
   "cell_type": "markdown",
   "metadata": {},
   "source": [
    "O foco é otimizar a precisão (precision) e o recall, por isso usamos f1-score como a medida-chave para o desempenho dos algoritmos.<br>\n",
    "O f1-score considera tanto a precisão quanto o recall para calcular a pontuação.<br>\n",
    "Além disso, para 'StratifiedShuffleSplit', o parâmetro n_splits = 1000 é usado."
   ]
  },
  {
   "cell_type": "markdown",
   "metadata": {},
   "source": [
    "- <b>Accuracy:</b> é uma relação entre a observação corretamente prevista e o total de observações.\n",
    "- <b>Precision:</b> é a razão de observações positivas previstas corretamente para o total de observações positivas previstas.\n",
    "- <b>Recall:</b> é a razão de observações positivas preditas corretamente para todas as observações na classe real.\n",
    "- <b>F1-Score:</b> é a média ponderada de Precision e Recall. Portanto, essa pontuação leva em conta tanto os falsos positivos quanto os falsos negativos."
   ]
  },
  {
   "cell_type": "markdown",
   "metadata": {},
   "source": [
    "Valores obtidos depois de rodar o arquivo 'tester.py' com os dados criados:"
   ]
  },
  {
   "cell_type": "markdown",
   "metadata": {},
   "source": [
    "- <b>Algoritmo:</b>GaussianNB\n",
    "- <b>Accuracy:</b> 0.85271\n",
    "- <b>Precision:</b> 0.48128\n",
    "- <b>Recall:</b> 0.0.39850\n",
    "- <b>F1-Score:</b> 0.43600"
   ]
  },
  {
   "cell_type": "markdown",
   "metadata": {},
   "source": [
    "Valores obtidos depois rodar o arquivo 'tester.py' sem os dados criados:"
   ]
  },
  {
   "cell_type": "markdown",
   "metadata": {},
   "source": [
    "- <b>Algoritmo:</b>GaussianNB\n",
    "- <b>Accuracy:</b> 0.85343\n",
    "- <b>Precision:</b> 0.48415\n",
    "- <b>Recall:</b> 0.0.39700\n",
    "- <b>F1-Score:</b> 0.43626"
   ]
  },
  {
   "cell_type": "markdown",
   "metadata": {},
   "source": [
    "Notamos que os dados criados não fizeram muita diferença na qualidade do algoritmo."
   ]
  },
  {
   "cell_type": "code",
   "execution_count": null,
   "metadata": {},
   "outputs": [],
   "source": []
  }
 ],
 "metadata": {
  "kernelspec": {
   "display_name": "Python 3",
   "language": "python",
   "name": "python3"
  },
  "language_info": {
   "codemirror_mode": {
    "name": "ipython",
    "version": 3
   },
   "file_extension": ".py",
   "mimetype": "text/x-python",
   "name": "python",
   "nbconvert_exporter": "python",
   "pygments_lexer": "ipython3",
   "version": "3.7.0"
  }
 },
 "nbformat": 4,
 "nbformat_minor": 2
}
